{
 "cells": [
  {
   "cell_type": "code",
   "execution_count": 1,
   "metadata": {},
   "outputs": [],
   "source": [
    "import sys\n",
    "sys.path.append('..')\n",
    "import processing\n",
    "\n",
    "loader = processing.DatasetLoader('..\\\\..\\\\dataset\\\\np_dataset')\n",
    "# train_dataloader, test_dataloader = loader.get_dataloaders()\n",
    "random_sample = loader.get_random_sample('train')\n",
    "src, trg, meta = random_sample"
   ]
  },
  {
   "cell_type": "code",
   "execution_count": 2,
   "metadata": {},
   "outputs": [
    {
     "name": "stderr",
     "output_type": "stream",
     "text": [
      "C:\\Users\\Draco\\AppData\\Local\\Temp\\ipykernel_10852\\2857033724.py:6: FutureWarning: You are using `torch.load` with `weights_only=False` (the current default value), which uses the default pickle module implicitly. It is possible to construct malicious pickle data which will execute arbitrary code during unpickling (See https://github.com/pytorch/pytorch/blob/main/SECURITY.md#untrusted-models for more details). In a future release, the default value for `weights_only` will be flipped to `True`. This limits the functions that could be executed during unpickling. Arbitrary objects will no longer be allowed to be loaded via this mode unless they are explicitly allowlisted by the user via `torch.serialization.add_safe_globals`. We recommend you start setting `weights_only=True` for any use case where you don't have full control of the loaded file. Please open an issue on GitHub for any issues related to this experimental feature.\n",
      "  model.load_state_dict(torch.load(f'../pretrained/{type}/{model_name}'))\n"
     ]
    }
   ],
   "source": [
    "from train import new_model\n",
    "import torch\n",
    "type = 'mamba'\n",
    "model_name = 'loss_3.29_time_2025-03-13-10-43-27.pth'\n",
    "model = new_model(type)\n",
    "model.load_state_dict(torch.load(f'../pretrained/{type}/{model_name}'))\n",
    "model.to('cuda');"
   ]
  },
  {
   "cell_type": "code",
   "execution_count": 5,
   "metadata": {},
   "outputs": [
    {
     "data": {
      "text/plain": [
       "tensor([[ 60, 195, 257, 357, 457, 585,  47, 195, 257, 357, 482, 585,  62, 195,\n",
       "         257,   0, 482, 585,  47, 195, 257,   0, 482, 585,  68, 195, 257,   0,\n",
       "         486,   0,  68, 182, 257,   0, 486,   0,  32, 708,   0,   0, 457,   0,\n",
       "          32, 216,   0,   0, 457,   0,  68, 708,   0,   0, 484,   0,  32, 364,\n",
       "           0,   0, 484,   0,  32, 364,   0,   0, 457,   0,  68, 708,   0,   0,\n",
       "         457,   0,  32, 708,   0,   0, 457,   0,  32, 195,   0,   0, 457,   0,\n",
       "          32, 708,   0,   0, 457,   0,  32, 182,   0,   0, 457,   0,  32, 195,\n",
       "           0,   0, 457,   0,  32, 195,   0,   0, 457,   0,  68, 194,   0,   0,\n",
       "         457,   0,  32, 194,   0,   0, 482,   0, 293, 195,   0,   0, 482,   0,\n",
       "         723, 183]], device='cuda:0')"
      ]
     },
     "execution_count": 5,
     "metadata": {},
     "output_type": "execute_result"
    }
   ],
   "source": [
    "output = model(src.unsqueeze(0))\n",
    "# output.argmax(-1)\n",
    "output.argmax(-1)"
   ]
  }
 ],
 "metadata": {
  "kernelspec": {
   "display_name": "Python 3",
   "language": "python",
   "name": "python3"
  },
  "language_info": {
   "codemirror_mode": {
    "name": "ipython",
    "version": 3
   },
   "file_extension": ".py",
   "mimetype": "text/x-python",
   "name": "python",
   "nbconvert_exporter": "python",
   "pygments_lexer": "ipython3",
   "version": "3.11.9"
  }
 },
 "nbformat": 4,
 "nbformat_minor": 2
}
