{
 "cells": [
  {
   "cell_type": "code",
   "execution_count": 1,
   "id": "1dbe9509",
   "metadata": {},
   "outputs": [],
   "source": [
    "import sys\n",
    "sys.path.append('..')\n",
    "import processing\n",
    "import pretty_midi\n"
   ]
  },
  {
   "cell_type": "code",
   "execution_count": 2,
   "id": "32cb4a1f",
   "metadata": {},
   "outputs": [
    {
     "name": "stdout",
     "output_type": "stream",
     "text": [
      "tensor(386, device='cuda:0')\n",
      "tensor(374, device='cuda:0')\n",
      "tensor(386, device='cuda:0')\n",
      "tensor(389, device='cuda:0')\n",
      "tensor(387, device='cuda:0')\n",
      "tensor(385, device='cuda:0')\n"
     ]
    }
   ],
   "source": [
    "loader = processing.DatasetLoader('..\\\\..\\\\dataset\\\\np_dataset')\n",
    "train_data, test_data = loader.get_dataloaders()\n",
    "for src, tgt, meta in train_data:\n",
    "    break\n",
    "decode = processing.decode(src[0])\n",
    "processing.note_to_midi(decode, \"src.mid\")"
   ]
  },
  {
   "cell_type": "code",
   "execution_count": 3,
   "id": "ac12ed72",
   "metadata": {},
   "outputs": [
    {
     "data": {
      "text/plain": [
       "torch.Size([8, 2048])"
      ]
     },
     "execution_count": 3,
     "metadata": {},
     "output_type": "execute_result"
    }
   ],
   "source": [
    "src.shape"
   ]
  },
  {
   "cell_type": "code",
   "execution_count": 3,
   "id": "d5d2d487",
   "metadata": {},
   "outputs": [],
   "source": [
    "import sys\n",
    "sys.path.append('..')\n",
    "import processing\n",
    "import pretty_midi\n",
    "# mid = pretty_midi.PrettyMIDI(midi_file=\"F:\\\\GitHub\\\\dataset\\\\midi_dataset\\\\ABBA\\\\Mamma_Mia.mid\")\n",
    "midi_notes = processing.extract_midi(\"F:\\\\GitHub\\\\dataset\\\\midi_dataset\\\\ABBA\\\\Money,_Money,_Money.mid\")\n",
    "encoded_notes = processing.encode(midi_notes)\n",
    "decoded_notes = processing.decode(encoded_notes)\n",
    "processing.note_to_midi(decoded_notes, \"money.mid\")"
   ]
  },
  {
   "cell_type": "code",
   "execution_count": 3,
   "id": "b998738c",
   "metadata": {},
   "outputs": [
    {
     "name": "stdout",
     "output_type": "stream",
     "text": [
      "[Instrument(program=0, is_drum=False, name=\"MoneyMone\"), Instrument(program=12, is_drum=False, name=\"MoneyMone\"), Instrument(program=33, is_drum=False, name=\"MoneyMone\"), Instrument(program=0, is_drum=True, name=\"MoneyMone\"), Instrument(program=10, is_drum=False, name=\"MoneyMone\"), Instrument(program=62, is_drum=False, name=\"MoneyMone\"), Instrument(program=27, is_drum=False, name=\"MoneyMone\"), Instrument(program=48, is_drum=False, name=\"MoneyMone\")]\n"
     ]
    }
   ],
   "source": [
    "mid = pretty_midi.PrettyMIDI(midi_file=\"F:\\\\GitHub\\\\dataset\\\\midi_dataset\\\\ABBA\\\\Money,_Money,_Money.mid\")\n",
    "all_notes = []\n",
    "print(mid.instruments)\n",
    "# [[all_notes.append(note) for note in inst.notes] for inst in mid.instruments]\n",
    "# all_notes"
   ]
  },
  {
   "cell_type": "code",
   "execution_count": 15,
   "id": "63a583b0",
   "metadata": {},
   "outputs": [
    {
     "name": "stdout",
     "output_type": "stream",
     "text": [
      "tensor([251, 265, 618, 833,  58, 224, 261, 381, 490, 833,  43, 241, 263, 357,\n",
      "        618, 833,  58, 256, 305, 381, 457, 833,  43, 254, 267, 357, 618, 833,\n",
      "         39, 251], device='cuda:0')\n",
      "tensor([251, 265, 618, 833,  58, 224, 261, 455, 490, 833,  43, 241, 263, 357,\n",
      "        618, 833,  58, 256, 305, 455, 457, 833,  43, 254, 267, 357, 618, 833,\n",
      "         39, 251], device='cuda:0')\n"
     ]
    }
   ],
   "source": [
    "import random\n",
    "import configs.common as cc\n",
    "print(src[0][:30])\n",
    "time_r_ints = 100\n",
    "time_lb = cc.start_idx['time']\n",
    "time_ub = cc.start_idx['time'] + cc.config.discretization.time - 1\n",
    "sequence = processing.multiply_sequence(src[0], time_r_ints, time_lb, time_ub)\n",
    "print(sequence[:30])"
   ]
  },
  {
   "cell_type": "code",
   "execution_count": 16,
   "id": "0c517900",
   "metadata": {},
   "outputs": [
    {
     "data": {
      "text/plain": [
       "{'pitch': 1,\n",
       " 'dyn': 129,\n",
       " 'length': 257,\n",
       " 'time': 357,\n",
       " 'channel': 457,\n",
       " 'tempo': 713}"
      ]
     },
     "execution_count": 16,
     "metadata": {},
     "output_type": "execute_result"
    }
   ],
   "source": [
    "cc.start_idx"
   ]
  },
  {
   "cell_type": "code",
   "execution_count": 8,
   "id": "7ce26432",
   "metadata": {},
   "outputs": [
    {
     "data": {
      "text/plain": [
       "tensor([248, 277, 618, 833,  63, 196, 281, 357, 519, 833,  75, 245, 261, 457,\n",
       "        833,  65, 249, 261, 457, 833,  41, 245, 355, 457, 833,  43, 239, 277,\n",
       "        618, 833], device='cuda:0')"
      ]
     },
     "execution_count": 8,
     "metadata": {},
     "output_type": "execute_result"
    }
   ],
   "source": [
    "src[0][:30]"
   ]
  }
 ],
 "metadata": {
  "kernelspec": {
   "display_name": "Python 3",
   "language": "python",
   "name": "python3"
  },
  "language_info": {
   "codemirror_mode": {
    "name": "ipython",
    "version": 3
   },
   "file_extension": ".py",
   "mimetype": "text/x-python",
   "name": "python",
   "nbconvert_exporter": "python",
   "pygments_lexer": "ipython3",
   "version": "3.11.9"
  }
 },
 "nbformat": 4,
 "nbformat_minor": 5
}
