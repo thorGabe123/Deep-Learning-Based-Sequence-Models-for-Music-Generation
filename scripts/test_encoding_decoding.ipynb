{
 "cells": [
  {
   "cell_type": "code",
   "execution_count": 1,
   "id": "1dbe9509",
   "metadata": {},
   "outputs": [],
   "source": [
    "import sys\n",
    "sys.path.append('..')\n",
    "import processing\n",
    "import pretty_midi\n"
   ]
  },
  {
   "cell_type": "code",
   "execution_count": 5,
   "id": "32cb4a1f",
   "metadata": {},
   "outputs": [
    {
     "ename": "ZeroDivisionError",
     "evalue": "float division by zero",
     "output_type": "error",
     "traceback": [
      "\u001b[1;31m---------------------------------------------------------------------------\u001b[0m",
      "\u001b[1;31mZeroDivisionError\u001b[0m                         Traceback (most recent call last)",
      "Cell \u001b[1;32mIn[5], line 5\u001b[0m\n\u001b[0;32m      1\u001b[0m \u001b[38;5;66;03m# loader = processing.DatasetLoader('..\\\\..\\\\dataset\\\\np_dataset')\u001b[39;00m\n\u001b[0;32m      2\u001b[0m \u001b[38;5;66;03m# train_data, test_data = loader.get_dataloaders()\u001b[39;00m\n\u001b[0;32m      3\u001b[0m \u001b[38;5;66;03m# for src, tgt, meta in train_data:\u001b[39;00m\n\u001b[0;32m      4\u001b[0m \u001b[38;5;66;03m#     break\u001b[39;00m\n\u001b[1;32m----> 5\u001b[0m decode \u001b[38;5;241m=\u001b[39m \u001b[43mprocessing\u001b[49m\u001b[38;5;241;43m.\u001b[39;49m\u001b[43mdecode\u001b[49m\u001b[43m(\u001b[49m\u001b[43msrc\u001b[49m\u001b[43m[\u001b[49m\u001b[38;5;241;43m0\u001b[39;49m\u001b[43m]\u001b[49m\u001b[43m)\u001b[49m\n\u001b[0;32m      6\u001b[0m processing\u001b[38;5;241m.\u001b[39mnote_to_midi(decode, \u001b[38;5;124m\"\u001b[39m\u001b[38;5;124msrc.mid\u001b[39m\u001b[38;5;124m\"\u001b[39m)\n",
      "File \u001b[1;32mf:\\GitHub\\Deep-Learning-Based-Sequence-Models-for-Music-Generation\\scripts\\..\\processing\\processing.py:217\u001b[0m, in \u001b[0;36mdecode\u001b[1;34m(token_seq)\u001b[0m\n\u001b[0;32m    213\u001b[0m         tempo \u001b[38;5;241m=\u001b[39m \u001b[38;5;28;01mNone\u001b[39;00m\n\u001b[0;32m    215\u001b[0m         prev_time \u001b[38;5;241m=\u001b[39m prev_time \u001b[38;5;241m+\u001b[39m time_delta\n\u001b[1;32m--> 217\u001b[0m \u001b[43mrevert_note_time\u001b[49m\u001b[43m(\u001b[49m\u001b[43mdecoded_notes\u001b[49m\u001b[43m)\u001b[49m\n\u001b[0;32m    218\u001b[0m \u001b[38;5;28;01mreturn\u001b[39;00m decoded_notes\n",
      "File \u001b[1;32mf:\\GitHub\\Deep-Learning-Based-Sequence-Models-for-Music-Generation\\scripts\\..\\processing\\processing.py:163\u001b[0m, in \u001b[0;36mrevert_note_time\u001b[1;34m(midi_notes)\u001b[0m\n\u001b[0;32m    160\u001b[0m prev_tempo \u001b[38;5;241m=\u001b[39m midi_notes[\u001b[38;5;241m0\u001b[39m]\u001b[38;5;241m.\u001b[39mtempo\n\u001b[0;32m    161\u001b[0m \u001b[38;5;28;01mfor\u001b[39;00m idx, n \u001b[38;5;129;01min\u001b[39;00m \u001b[38;5;28menumerate\u001b[39m(midi_notes):\n\u001b[0;32m    162\u001b[0m     \u001b[38;5;66;03m# Calculate time_start and time_end\u001b[39;00m\n\u001b[1;32m--> 163\u001b[0m     resolution \u001b[38;5;241m=\u001b[39m \u001b[38;5;241;43m60\u001b[39;49m\u001b[43m \u001b[49m\u001b[38;5;241;43m/\u001b[39;49m\u001b[43m \u001b[49m\u001b[43mprev_tempo\u001b[49m \u001b[38;5;241m/\u001b[39m res_per_beat\n\u001b[0;32m    164\u001b[0m     time_start \u001b[38;5;241m=\u001b[39m prev_time \u001b[38;5;241m+\u001b[39m (n\u001b[38;5;241m.\u001b[39mtime_start \u001b[38;5;241m-\u001b[39m prev_beat) \u001b[38;5;241m*\u001b[39m resolution\n\u001b[0;32m    165\u001b[0m     time_end \u001b[38;5;241m=\u001b[39m time_start \u001b[38;5;241m+\u001b[39m (n\u001b[38;5;241m.\u001b[39mtime_end \u001b[38;5;241m-\u001b[39m n\u001b[38;5;241m.\u001b[39mtime_start) \u001b[38;5;241m*\u001b[39m resolution\n",
      "\u001b[1;31mZeroDivisionError\u001b[0m: float division by zero"
     ]
    }
   ],
   "source": [
    "# loader = processing.DatasetLoader('..\\\\..\\\\dataset\\\\np_dataset')\n",
    "# train_data, test_data = loader.get_dataloaders()\n",
    "# for src, tgt, meta in train_data:\n",
    "#     break\n",
    "decode = processing.decode(src[0])\n",
    "processing.note_to_midi(decode, \"src.mid\")"
   ]
  },
  {
   "cell_type": "code",
   "execution_count": 3,
   "id": "ba61083b",
   "metadata": {},
   "outputs": [
    {
     "data": {
      "text/plain": [
       "torch.Size([2048])"
      ]
     },
     "execution_count": 3,
     "metadata": {},
     "output_type": "execute_result"
    }
   ],
   "source": [
    "src[0].shape"
   ]
  },
  {
   "cell_type": "code",
   "execution_count": 3,
   "id": "ac12ed72",
   "metadata": {},
   "outputs": [
    {
     "data": {
      "text/plain": [
       "torch.Size([8, 2048])"
      ]
     },
     "execution_count": 3,
     "metadata": {},
     "output_type": "execute_result"
    }
   ],
   "source": [
    "src.shape"
   ]
  },
  {
   "cell_type": "code",
   "execution_count": 3,
   "id": "d5d2d487",
   "metadata": {},
   "outputs": [],
   "source": [
    "import sys\n",
    "sys.path.append('..')\n",
    "import processing\n",
    "import pretty_midi\n",
    "# mid = pretty_midi.PrettyMIDI(midi_file=\"F:\\\\GitHub\\\\dataset\\\\midi_dataset\\\\ABBA\\\\Mamma_Mia.mid\")\n",
    "midi_notes = processing.extract_midi(\"F:\\\\GitHub\\\\dataset\\\\midi_dataset\\\\ABBA\\\\Money,_Money,_Money.mid\")\n",
    "encoded_notes = processing.encode(midi_notes)\n",
    "decoded_notes = processing.decode(encoded_notes)\n",
    "processing.note_to_midi(decoded_notes, \"money.mid\")"
   ]
  },
  {
   "cell_type": "code",
   "execution_count": 3,
   "id": "b998738c",
   "metadata": {},
   "outputs": [
    {
     "name": "stdout",
     "output_type": "stream",
     "text": [
      "[Instrument(program=0, is_drum=False, name=\"MoneyMone\"), Instrument(program=12, is_drum=False, name=\"MoneyMone\"), Instrument(program=33, is_drum=False, name=\"MoneyMone\"), Instrument(program=0, is_drum=True, name=\"MoneyMone\"), Instrument(program=10, is_drum=False, name=\"MoneyMone\"), Instrument(program=62, is_drum=False, name=\"MoneyMone\"), Instrument(program=27, is_drum=False, name=\"MoneyMone\"), Instrument(program=48, is_drum=False, name=\"MoneyMone\")]\n"
     ]
    }
   ],
   "source": [
    "mid = pretty_midi.PrettyMIDI(midi_file=\"F:\\\\GitHub\\\\dataset\\\\midi_dataset\\\\ABBA\\\\Money,_Money,_Money.mid\")\n",
    "all_notes = []\n",
    "print(mid.instruments)\n",
    "# [[all_notes.append(note) for note in inst.notes] for inst in mid.instruments]\n",
    "# all_notes"
   ]
  },
  {
   "cell_type": "code",
   "execution_count": 15,
   "id": "63a583b0",
   "metadata": {},
   "outputs": [
    {
     "name": "stdout",
     "output_type": "stream",
     "text": [
      "tensor([251, 265, 618, 833,  58, 224, 261, 381, 490, 833,  43, 241, 263, 357,\n",
      "        618, 833,  58, 256, 305, 381, 457, 833,  43, 254, 267, 357, 618, 833,\n",
      "         39, 251], device='cuda:0')\n",
      "tensor([251, 265, 618, 833,  58, 224, 261, 455, 490, 833,  43, 241, 263, 357,\n",
      "        618, 833,  58, 256, 305, 455, 457, 833,  43, 254, 267, 357, 618, 833,\n",
      "         39, 251], device='cuda:0')\n"
     ]
    }
   ],
   "source": [
    "import random\n",
    "import configs.common as cc\n",
    "print(src[0][:30])\n",
    "time_r_ints = 100\n",
    "time_lb = cc.start_idx['time']\n",
    "time_ub = cc.start_idx['time'] + cc.config.discretization.time - 1\n",
    "sequence = processing.multiply_sequence(src[0], time_r_ints, time_lb, time_ub)\n",
    "print(sequence[:30])"
   ]
  },
  {
   "cell_type": "code",
   "execution_count": 16,
   "id": "0c517900",
   "metadata": {},
   "outputs": [
    {
     "data": {
      "text/plain": [
       "{'pitch': 1,\n",
       " 'dyn': 129,\n",
       " 'length': 257,\n",
       " 'time': 357,\n",
       " 'channel': 457,\n",
       " 'tempo': 713}"
      ]
     },
     "execution_count": 16,
     "metadata": {},
     "output_type": "execute_result"
    }
   ],
   "source": [
    "cc.start_idx"
   ]
  },
  {
   "cell_type": "code",
   "execution_count": 8,
   "id": "7ce26432",
   "metadata": {},
   "outputs": [
    {
     "data": {
      "text/plain": [
       "tensor([248, 277, 618, 833,  63, 196, 281, 357, 519, 833,  75, 245, 261, 457,\n",
       "        833,  65, 249, 261, 457, 833,  41, 245, 355, 457, 833,  43, 239, 277,\n",
       "        618, 833], device='cuda:0')"
      ]
     },
     "execution_count": 8,
     "metadata": {},
     "output_type": "execute_result"
    }
   ],
   "source": [
    "src[0][:30]"
   ]
  }
 ],
 "metadata": {
  "kernelspec": {
   "display_name": "Python 3",
   "language": "python",
   "name": "python3"
  },
  "language_info": {
   "codemirror_mode": {
    "name": "ipython",
    "version": 3
   },
   "file_extension": ".py",
   "mimetype": "text/x-python",
   "name": "python",
   "nbconvert_exporter": "python",
   "pygments_lexer": "ipython3",
   "version": "3.11.9"
  }
 },
 "nbformat": 4,
 "nbformat_minor": 5
}
