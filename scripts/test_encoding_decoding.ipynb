{
 "cells": [
  {
   "cell_type": "code",
   "execution_count": null,
   "id": "1dbe9509",
   "metadata": {},
   "outputs": [],
   "source": [
    "import sys\n",
    "sys.path.append('..')\n",
    "import processing\n",
    "import pretty_midi\n"
   ]
  },
  {
   "cell_type": "code",
   "execution_count": 2,
   "id": "32cb4a1f",
   "metadata": {},
   "outputs": [],
   "source": [
    "loader = processing.DatasetLoader('..\\\\..\\\\dataset\\\\np_dataset')\n",
    "train_data, test_data = loader.get_dataloaders()\n",
    "for src, tgt, meta in train_data:\n",
    "    break\n"
   ]
  },
  {
   "cell_type": "code",
   "execution_count": 3,
   "id": "ffc763e0",
   "metadata": {},
   "outputs": [
    {
     "ename": "AttributeError",
     "evalue": "'PrettyMIDI' object has no attribute '_set_tempo_changes'",
     "output_type": "error",
     "traceback": [
      "\u001b[1;31m---------------------------------------------------------------------------\u001b[0m",
      "\u001b[1;31mAttributeError\u001b[0m                            Traceback (most recent call last)",
      "Cell \u001b[1;32mIn[3], line 1\u001b[0m\n\u001b[1;32m----> 1\u001b[0m \u001b[43mprocessing\u001b[49m\u001b[38;5;241;43m.\u001b[39;49m\u001b[43mnote_to_midi\u001b[49m\u001b[43m(\u001b[49m\u001b[43mprocessing\u001b[49m\u001b[38;5;241;43m.\u001b[39;49m\u001b[43mdecode\u001b[49m\u001b[43m(\u001b[49m\u001b[43msrc\u001b[49m\u001b[43m[\u001b[49m\u001b[38;5;241;43m0\u001b[39;49m\u001b[43m]\u001b[49m\u001b[43m)\u001b[49m\u001b[43m)\u001b[49m\n",
      "File \u001b[1;32mf:\\GitHub\\Deep-Learning-Based-Sequence-Models-for-Music-Generation\\scripts\\..\\processing\\processing.py:106\u001b[0m, in \u001b[0;36mnote_to_midi\u001b[1;34m(midi_notes, default_tempo)\u001b[0m\n\u001b[0;32m    104\u001b[0m \u001b[38;5;28;01melse\u001b[39;00m:\n\u001b[0;32m    105\u001b[0m     tempo_bpm \u001b[38;5;241m=\u001b[39m default_tempo\n\u001b[1;32m--> 106\u001b[0m \u001b[43mmidi_object\u001b[49m\u001b[38;5;241;43m.\u001b[39;49m\u001b[43m_set_tempo_changes\u001b[49m([\u001b[38;5;241m0.0\u001b[39m], [tempo_bpm])\n\u001b[0;32m    107\u001b[0m \u001b[38;5;28;01mreturn\u001b[39;00m midi_object\n",
      "\u001b[1;31mAttributeError\u001b[0m: 'PrettyMIDI' object has no attribute '_set_tempo_changes'"
     ]
    }
   ],
   "source": [
    "processing.note_to_midi(processing.decode(src[0]))"
   ]
  },
  {
   "cell_type": "code",
   "execution_count": null,
   "id": "ab1e8986",
   "metadata": {},
   "outputs": [
    {
     "data": {
      "text/plain": [
       "88.00002346667293"
      ]
     },
     "execution_count": 17,
     "metadata": {},
     "output_type": "execute_result"
    }
   ],
   "source": [
    "mid = pretty_midi.PrettyMIDI(midi_file=\"F:/GitHub/dataset/midi_dataset/Oasis/Wonderwall.mid\")\n",
    "tempo_times, tempo_bpm = mid.get_tempo_changes()\n",
    "mid.get_tempo_changes()\n",
    "mid.__setattr__('tempo_change_times', [123])\n",
    "60.0/(mid._tick_scales[0][1]*mid.resolution)"
   ]
  },
  {
   "cell_type": "code",
   "execution_count": null,
   "id": "4aca715d",
   "metadata": {},
   "outputs": [],
   "source": [
    "midi_object = pretty_midi.PrettyMIDI()\n",
    "midi_object.__setattr__('tempo_change_times', [123])"
   ]
  }
 ],
 "metadata": {
  "kernelspec": {
   "display_name": "Python 3",
   "language": "python",
   "name": "python3"
  },
  "language_info": {
   "codemirror_mode": {
    "name": "ipython",
    "version": 3
   },
   "file_extension": ".py",
   "mimetype": "text/x-python",
   "name": "python",
   "nbconvert_exporter": "python",
   "pygments_lexer": "ipython3",
   "version": "3.11.9"
  }
 },
 "nbformat": 4,
 "nbformat_minor": 5
}
