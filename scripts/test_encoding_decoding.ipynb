{
 "cells": [
  {
   "cell_type": "code",
   "execution_count": 1,
   "id": "1dbe9509",
   "metadata": {},
   "outputs": [],
   "source": [
    "import sys\n",
    "sys.path.append('..')\n",
    "import processing\n",
    "import pretty_midi\n"
   ]
  },
  {
   "cell_type": "code",
   "execution_count": 2,
   "id": "32cb4a1f",
   "metadata": {},
   "outputs": [],
   "source": [
    "loader = processing.DatasetLoader('E:\\\\GitHub\\\\dataset\\\\blabla\\\\blabla')\n",
    "train_data, test_data = loader.get_dataloaders()\n",
    "for src, tgt, meta in train_data:\n",
    "    break\n",
    "decode = processing.decode(src[0])\n",
    "processing.note_to_midi(decode, \"src.mid\")"
   ]
  },
  {
   "cell_type": "code",
   "execution_count": 3,
   "id": "b93b72c9",
   "metadata": {},
   "outputs": [
    {
     "data": {
      "text/plain": [
       "tensor([[16580, 16656, 16755,  ..., 16960,    82, 16582],\n",
       "        [   47, 16574, 16668,  ..., 16960,    79, 16588],\n",
       "        [   67, 16574, 16644,  ..., 16704, 16755, 16960],\n",
       "        ...,\n",
       "        [16587, 16672, 16754,  ..., 16589, 16670, 16754],\n",
       "        [16960,    76, 16596,  ..., 16960,    72, 16598],\n",
       "        [16583, 16655, 16754,  ..., 16580, 16655, 16755]], device='cuda:0')"
      ]
     },
     "execution_count": 3,
     "metadata": {},
     "output_type": "execute_result"
    }
   ],
   "source": [
    "src"
   ]
  },
  {
   "cell_type": "code",
   "execution_count": 14,
   "id": "d5d2d487",
   "metadata": {},
   "outputs": [],
   "source": [
    "import configs.common as cc\n",
    "import random\n",
    "time_r_ints = random.randint(1, 3)\n",
    "time_lb = cc.start_idx['time']\n",
    "time_ub = cc.start_idx['time'] + cc.config.discretization.time - 1\n",
    "sequence = processing.multiply_sequence(src, time_r_ints, time_lb, time_ub)"
   ]
  },
  {
   "cell_type": "code",
   "execution_count": 15,
   "id": "9b868bcf",
   "metadata": {},
   "outputs": [
    {
     "data": {
      "text/plain": [
       "2"
      ]
     },
     "execution_count": 15,
     "metadata": {},
     "output_type": "execute_result"
    }
   ],
   "source": [
    "time_r_ints"
   ]
  },
  {
   "cell_type": "code",
   "execution_count": 16,
   "id": "f490ef19",
   "metadata": {},
   "outputs": [
    {
     "data": {
      "text/plain": [
       "tensor([16827, 17088,    57, 16594, 16727, 16740, 17088,    76, 16596, 16694,\n",
       "        16767, 17088,    74, 16598, 16667, 16770, 17088,    74, 16598, 16733,\n",
       "        16767, 17088,    53, 16593, 16688, 16740, 17088,    55, 16596, 16685,\n",
       "        16785, 17088,    72, 16602, 16727, 16782, 17088,    57, 16591, 16685,\n",
       "        16740, 17088,    53, 16592, 16682, 16785, 17088,    58, 16595, 16724,\n",
       "        16782, 17088,    74, 16596, 16682, 16740, 17088,    75, 16590, 16670,\n",
       "        16767, 17088,    74, 16594, 16670, 16770, 17088,    60, 16592, 16724,\n",
       "        17088,    72, 16601, 16670, 16740, 17088,    74, 16595, 16670, 16767,\n",
       "        17088,    72, 16600, 16673, 16770, 17088,    48, 16587, 16730, 16767,\n",
       "        17088,    70, 16590, 16670, 16743, 17088,    72, 16603, 16709, 16767],\n",
       "       device='cuda:0')"
      ]
     },
     "execution_count": 16,
     "metadata": {},
     "output_type": "execute_result"
    }
   ],
   "source": [
    "src[0][:100]"
   ]
  },
  {
   "cell_type": "code",
   "execution_count": 17,
   "id": "a1fc5db2",
   "metadata": {},
   "outputs": [
    {
     "data": {
      "text/plain": [
       "tensor([16838, 17088,    57, 16594, 16727, 16740, 17088,    76, 16596, 16694,\n",
       "        16794, 17088,    74, 16598, 16667, 16800, 17088,    74, 16598, 16733,\n",
       "        16794, 17088,    53, 16593, 16688, 16740, 17088,    55, 16596, 16685,\n",
       "        16830, 17088,    72, 16602, 16727, 16824, 17088,    57, 16591, 16685,\n",
       "        16740, 17088,    53, 16592, 16682, 16830, 17088,    58, 16595, 16724,\n",
       "        16824, 17088,    74, 16596, 16682, 16740, 17088,    75, 16590, 16670,\n",
       "        16794, 17088,    74, 16594, 16670, 16800, 17088,    60, 16592, 16724,\n",
       "        17088,    72, 16601, 16670, 16740, 17088,    74, 16595, 16670, 16794,\n",
       "        17088,    72, 16600, 16673, 16800, 17088,    48, 16587, 16730, 16794,\n",
       "        17088,    70, 16590, 16670, 16746, 17088,    72, 16603, 16709, 16794],\n",
       "       device='cuda:0')"
      ]
     },
     "execution_count": 17,
     "metadata": {},
     "output_type": "execute_result"
    }
   ],
   "source": [
    "sequence[0][:100]"
   ]
  },
  {
   "cell_type": "code",
   "execution_count": 8,
   "id": "91f554a1",
   "metadata": {},
   "outputs": [
    {
     "data": {
      "text/plain": [
       "{'pitch': 0, 'dyn': 16512, 'length': 16640, 'time': 16740, 'tempo': 16840}"
      ]
     },
     "execution_count": 8,
     "metadata": {},
     "output_type": "execute_result"
    }
   ],
   "source": [
    "cc.start_idx"
   ]
  }
 ],
 "metadata": {
  "kernelspec": {
   "display_name": "Python 3",
   "language": "python",
   "name": "python3"
  },
  "language_info": {
   "codemirror_mode": {
    "name": "ipython",
    "version": 3
   },
   "file_extension": ".py",
   "mimetype": "text/x-python",
   "name": "python",
   "nbconvert_exporter": "python",
   "pygments_lexer": "ipython3",
   "version": "3.13.3"
  }
 },
 "nbformat": 4,
 "nbformat_minor": 5
}
