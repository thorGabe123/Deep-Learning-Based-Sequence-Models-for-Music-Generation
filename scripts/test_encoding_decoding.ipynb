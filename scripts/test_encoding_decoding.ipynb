{
 "cells": [
  {
   "cell_type": "code",
   "execution_count": 1,
   "id": "1dbe9509",
   "metadata": {},
   "outputs": [],
   "source": [
    "import sys\n",
    "sys.path.append('..')\n",
    "import processing\n",
    "import pretty_midi\n"
   ]
  },
  {
   "cell_type": "code",
   "execution_count": 4,
   "id": "32cb4a1f",
   "metadata": {},
   "outputs": [],
   "source": [
    "loader = processing.DatasetLoader('..\\\\..\\\\dataset\\\\np_dataset')\n",
    "train_data, test_data = loader.get_dataloaders()\n",
    "for src, tgt, meta in train_data:\n",
    "    break\n",
    "decode = processing.decode(src[0])\n",
    "processing.note_to_midi(decode, \"src.mid\")"
   ]
  },
  {
   "cell_type": "code",
   "execution_count": 2,
   "id": "d5d2d487",
   "metadata": {},
   "outputs": [],
   "source": [
    "import sys\n",
    "sys.path.append('..')\n",
    "import processing\n",
    "import pretty_midi\n",
    "# mid = pretty_midi.PrettyMIDI(midi_file=\"E:\\\\GitHub\\\\dataset\\\\midi_dataset\\\\ABBA\\\\Mamma_Mia.mid\")\n",
    "midi_notes = processing.extract_midi(\"E:\\\\GitHub\\\\dataset\\\\midi_dataset\\\\ABBA\\\\Money,_Money,_Money.mid\")\n",
    "encoded_notes = processing.encode(midi_notes)\n",
    "decoded_notes = processing.decode(encoded_notes)\n",
    "processing.note_to_midi(decoded_notes, \"money.mid\")"
   ]
  }
 ],
 "metadata": {
  "kernelspec": {
   "display_name": "Python 3",
   "language": "python",
   "name": "python3"
  },
  "language_info": {
   "codemirror_mode": {
    "name": "ipython",
    "version": 3
   },
   "file_extension": ".py",
   "mimetype": "text/x-python",
   "name": "python",
   "nbconvert_exporter": "python",
   "pygments_lexer": "ipython3",
   "version": "3.11.9"
  }
 },
 "nbformat": 4,
 "nbformat_minor": 5
}
