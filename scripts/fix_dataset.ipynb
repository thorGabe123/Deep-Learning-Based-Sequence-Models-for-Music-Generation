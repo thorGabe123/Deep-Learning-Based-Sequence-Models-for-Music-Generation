{
 "cells": [
  {
   "cell_type": "code",
   "execution_count": 1,
   "id": "f9016a58-da29-47a0-9d4a-21d0a8e97174",
   "metadata": {
    "scrolled": true
   },
   "outputs": [
    {
     "ename": "NameError",
     "evalue": "name 'train_dataloader' is not defined",
     "output_type": "error",
     "traceback": [
      "\u001b[31m---------------------------------------------------------------------------\u001b[39m",
      "\u001b[31mNameError\u001b[39m                                 Traceback (most recent call last)",
      "\u001b[36mCell\u001b[39m\u001b[36m \u001b[39m\u001b[32mIn[1]\u001b[39m\u001b[32m, line 1\u001b[39m\n\u001b[32m----> \u001b[39m\u001b[32m1\u001b[39m all_data = \u001b[38;5;28mlist\u001b[39m(\u001b[43mtrain_dataloader\u001b[49m)\n\u001b[32m      2\u001b[39m src, trg, meta = random.choice(all_data)\n",
      "\u001b[31mNameError\u001b[39m: name 'train_dataloader' is not defined"
     ]
    }
   ],
   "source": [
    "data_root = \"/home/s203861/midi-classical-music/np_data/data\"\n",
    "band_folders = [d for d in os.listdir(data_root) if os.path.isdir(os.path.join(data_root, d))]\n",
    "all_data = list(train_dataloader)# remove_short_npy_files('/path/to/folder')\n",
    "\n",
    "src, trg, meta = random.choice(all_data)"
   ]
  },
  {
   "cell_type": "code",
   "execution_count": 69,
   "id": "f91e7e84-9d4d-465c-a1f7-61c5996d3298",
   "metadata": {},
   "outputs": [],
   "source": [
    "import os\n",
    "import numpy as np\n",
    "\n",
    "def remove_short_npy_files(root_folder, min_length=1030):\n",
    "    \"\"\"\n",
    "    Removes all .npy files in root_folder (and subfolders) whose content\n",
    "    (assumed to be a 1D array/list) is shorter than min_length.\n",
    "    \"\"\"\n",
    "\n",
    "    # Walk through all subfolders and files\n",
    "    for dirpath, dirnames, filenames in os.walk(root_folder):\n",
    "        for filename in filenames:\n",
    "            if filename.lower().endswith('.npy'):\n",
    "                filepath = os.path.join(dirpath, filename)\n",
    "                try:\n",
    "                    data = np.load(filepath, allow_pickle=True)\n",
    "                    if hasattr(data, '__len__'):\n",
    "                        length = len(data)\n",
    "                        if length < min_length:\n",
    "                            os.remove(filepath)\n",
    "                            print(f\"Removed '{filepath}' (length {length})\")\n",
    "                    else:\n",
    "                        print(f\"Warning: '{filepath}' does not have a length.\")\n",
    "                except Exception as e:\n",
    "                    print(f\"Failed to load '{filepath}': {e}\")"
   ]
  },
  {
   "cell_type": "code",
   "execution_count": 70,
   "id": "7f7b0669-7347-41b7-b695-35e847a44f76",
   "metadata": {},
   "outputs": [
    {
     "name": "stdout",
     "output_type": "stream",
     "text": [
      "Removed '/home/s203861/midi-classical-music/np_data/data/Bach/bach-bwv001-_400_chorales-007305b.npy' (length 1029)\n",
      "Removed '/home/s203861/midi-classical-music/np_data/data/Bach/bach-bwv001-_400_chorales-007305bv.npy' (length 1029)\n",
      "Removed '/home/s203861/midi-classical-music/np_data/data/Bach/bach-bwv001-_400_chorales-034200b.npy' (length 1025)\n"
     ]
    }
   ],
   "source": [
    "remove_short_npy_files(\"/home/s203861/midi-classical-music/np_data/data\")\n"
   ]
  },
  {
   "cell_type": "code",
   "execution_count": 68,
   "id": "d7dc3285-f34e-46c8-9618-a619f71e4320",
   "metadata": {},
   "outputs": [
    {
     "data": {
      "text/plain": [
       "{'pitch': 0, 'dyn': 16512, 'length': 16640, 'time': 17140, 'tempo': 17640}"
      ]
     },
     "execution_count": 68,
     "metadata": {},
     "output_type": "execute_result"
    }
   ],
   "source": [
    "import configs.common as cc\n",
    "cc.start_idx"
   ]
  }
 ],
 "metadata": {
  "kernelspec": {
   "display_name": "Python 3 (ipykernel)",
   "language": "python",
   "name": "python3"
  },
  "language_info": {
   "codemirror_mode": {
    "name": "ipython",
    "version": 3
   },
   "file_extension": ".py",
   "mimetype": "text/x-python",
   "name": "python",
   "nbconvert_exporter": "python",
   "pygments_lexer": "ipython3",
   "version": "3.11.13"
  }
 },
 "nbformat": 4,
 "nbformat_minor": 5
}
