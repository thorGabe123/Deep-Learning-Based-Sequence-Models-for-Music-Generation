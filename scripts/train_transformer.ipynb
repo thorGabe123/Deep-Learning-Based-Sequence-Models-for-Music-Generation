{
 "cells": [
  {
   "cell_type": "code",
   "execution_count": 1,
   "metadata": {},
   "outputs": [],
   "source": [
    "import sys\n",
    "sys.path.append('..')\n",
    "import processing\n",
    "\n",
    "loader = processing.DatasetLoader('..\\\\..\\\\dataset\\\\np_dataset')\n",
    "# train_dataloader, test_dataloader = loader.get_dataloaders()\n",
    "random_sample = loader.get_random_sample('train')\n",
    "src, trg, meta = random_sample"
   ]
  },
  {
   "cell_type": "code",
   "execution_count": 2,
   "metadata": {},
   "outputs": [
    {
     "name": "stderr",
     "output_type": "stream",
     "text": [
      "C:\\Users\\Draco\\AppData\\Local\\Temp\\ipykernel_11156\\3501318471.py:6: FutureWarning: You are using `torch.load` with `weights_only=False` (the current default value), which uses the default pickle module implicitly. It is possible to construct malicious pickle data which will execute arbitrary code during unpickling (See https://github.com/pytorch/pytorch/blob/main/SECURITY.md#untrusted-models for more details). In a future release, the default value for `weights_only` will be flipped to `True`. This limits the functions that could be executed during unpickling. Arbitrary objects will no longer be allowed to be loaded via this mode unless they are explicitly allowlisted by the user via `torch.serialization.add_safe_globals`. We recommend you start setting `weights_only=True` for any use case where you don't have full control of the loaded file. Please open an issue on GitHub for any issues related to this experimental feature.\n",
      "  model.load_state_dict(torch.load(f'../pretrained/{type}/{model_name}'))\n"
     ]
    }
   ],
   "source": [
    "from train import new_model\n",
    "import torch\n",
    "type = 'transformer'\n",
    "model_name = 'loss_4.38_time_2025-03-13-11-52-48.pth'\n",
    "model = new_model(type)\n",
    "model.load_state_dict(torch.load(f'../pretrained/{type}/{model_name}'))\n",
    "model.to('cuda');"
   ]
  },
  {
   "cell_type": "code",
   "execution_count": 4,
   "metadata": {},
   "outputs": [
    {
     "data": {
      "text/plain": [
       "tensor([[357,  68, 257, 357, 189, 585, 585, 457, 257, 357, 357, 585,  68, 357,\n",
       "         257, 357, 457, 585, 833,  68, 257, 357, 457, 585, 457, 357, 257, 357,\n",
       "         457, 585,  68,  68, 257, 357, 457, 585, 585, 457, 257, 357, 457, 585,\n",
       "          68, 189, 257, 357, 189, 585,  69, 189, 257, 357, 457, 585, 457, 357,\n",
       "         257, 357, 457, 585, 357, 357, 257, 357, 457, 585,  68, 457, 257, 357,\n",
       "         585, 585, 457, 357, 257, 357, 457, 585, 585, 189, 257, 357, 457, 585,\n",
       "         457, 457, 257, 357, 833, 585, 585, 457, 257, 357, 357, 585, 457,  68,\n",
       "         257, 357, 833, 585,  68, 357, 457, 357, 585, 585,  69,  68, 457, 357,\n",
       "         833, 585, 357, 357, 257, 357,  68, 585,  68, 457, 257, 357, 189, 585,\n",
       "         357,  68]], device='cuda:0')"
      ]
     },
     "execution_count": 4,
     "metadata": {},
     "output_type": "execute_result"
    }
   ],
   "source": [
    "output = model(src.unsqueeze(0))\n",
    "output.argmax(-1)"
   ]
  }
 ],
 "metadata": {
  "kernelspec": {
   "display_name": "Python 3",
   "language": "python",
   "name": "python3"
  },
  "language_info": {
   "codemirror_mode": {
    "name": "ipython",
    "version": 3
   },
   "file_extension": ".py",
   "mimetype": "text/x-python",
   "name": "python",
   "nbconvert_exporter": "python",
   "pygments_lexer": "ipython3",
   "version": "3.11.9"
  }
 },
 "nbformat": 4,
 "nbformat_minor": 2
}
