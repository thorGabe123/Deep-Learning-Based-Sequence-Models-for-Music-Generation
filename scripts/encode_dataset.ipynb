{
 "cells": [
  {
   "cell_type": "code",
   "execution_count": 1,
   "metadata": {},
   "outputs": [
    {
     "name": "stderr",
     "output_type": "stream",
     "text": [
      "/home/s203861/newenv/lib/python3.11/site-packages/pretty_midi/instrument.py:11: UserWarning: pkg_resources is deprecated as an API. See https://setuptools.pypa.io/en/latest/pkg_resources.html. The pkg_resources package is slated for removal as early as 2025-11-30. Refrain from using this package or pin to Setuptools<81.\n",
      "  import pkg_resources\n"
     ]
    }
   ],
   "source": [
    "import sys\n",
    "sys.path.append('..')\n",
    "import processing"
   ]
  },
  {
   "cell_type": "code",
   "execution_count": 2,
   "metadata": {
    "scrolled": true
   },
   "outputs": [
    {
     "name": "stdout",
     "output_type": "stream",
     "text": [
      " [/scratch/s203861/data/testing/Mozart/symphonies-symphony_n41_k551_1mov_jupiter.mid] [/scratch/s203861/data/testing/Mozart/k620_overture_the_magic_flute.mid] [/scratch/s203861/data/testing/Mozart/k525_serenade_1mov_eine_kleine_natchmusik.mid] [/scratch/s203861/data/testing/Mozart/piano_sonatas-piano_sonata_n09_k310.mid] [/scratch/s203861/data/testing/Mozart/symphonies-symphony_n41_k551_4mov_jupiter.mid] [/scratch/s203861/data/testing/Mozart/piano_sonatas-piano_sonata_n16_k545.mid] [/scratch/s203861/data/testing/Mozart/piano_sonatas-piano_sonata_n08_k311.mid] [/scratch/s203861/data/testing/Mozart/symphonies-symphony_n41_k551_3mov_jupiter.mid] [/scratch/s203861/data/testing/Mozart/rondo.mid] [/scratch/s203861/data/testing/Mozart/k525_serenade_3mov_eine_kleine_natchmusik.mid] [/scratch/s203861/data/testing/Mozart/k626_requiem_07_lacrimosa.mid] [/scratch/s203861/data/testing/Mozart/k492_overture_le_nozze_di_figaro.mid] [/scratch/s203861/data/testing/Mozart/fantasia_in_d_k397.mid] [/scratch/s203861/data/testing/Mozart/symphonies-symphony_n41_k551_2mov_jupiter.mid] [/scratch/s203861/data/testing/Mozart/k525_serenade_4mov_eine_kleine_natchmusik.mid]"
     ]
    },
    {
     "name": "stderr",
     "output_type": "stream",
     "text": [
      "/home/s203861/newenv/lib/python3.11/site-packages/pretty_midi/pretty_midi.py:100: RuntimeWarning: Tempo, Key or Time signature change events found on non-zero tracks.  This is not a valid type 0 or type 1 MIDI file.  Tempo, Key or Time Signature may be wrong.\n",
      "  warnings.warn(\n"
     ]
    },
    {
     "name": "stdout",
     "output_type": "stream",
     "text": [
      " [/scratch/s203861/data/testing/Mozart/k525_serenade_2mov_eine_kleine_natchmusik.mid] [/scratch/s203861/data/testing/Mozart/piano_sonatas-piano_sonata_n13_k333.mid] [/scratch/s203861/data/testing/Mozart/piano_sonatas-piano_sonata_n12_k332.mid] [/scratch/s203861/data/testing/Mozart/piano_sonatas-piano_sonata_n10_k330.mid] [/scratch/s203861/data/testing/Mozart/piano_sonatas-piano_sonata_n11_k331.mid] [/scratch/s203861/data/testing/Queen/Bohemian_Rhapsody.mid] [/scratch/s203861/data/testing/Queen/Another_One_Bites_The_Dust.mid] [/scratch/s203861/data/testing/Queen/Killer_Queen.mid] [/scratch/s203861/data/testing/Queen/I_Want_It_All.mid] [/scratch/s203861/data/testing/Queen/Somebody_to_Love.mid] [/scratch/s203861/data/testing/ABBA/Does_Your_Mother_Know.mid] [/scratch/s203861/data/testing/ABBA/The_Winner_Takes_It_All.mid] [/scratch/s203861/data/testing/ABBA/Mamma_Mia.mid] [/scratch/s203861/data/testing/ABBA/Waterloo.mid] [/scratch/s203861/data/testing/ABBA/Take_a_Chance_on_Me.mid] [/scratch/s203861/data/testing/ABBA/Gimme_Gimme_Gimme.mid] [/scratch/s203861/data/testing/ABBA/Dancing_Queen.mid] [/scratch/s203861/data/testing/ABBA/Super_Trouper.mid] [/scratch/s203861/data/testing/ABBA/Money,_Money,_Money.mid] [/scratch/s203861/data/testing/Chopin/fantasie_impromptu_op66.mid] [/scratch/s203861/data/testing/Chopin/winter_wind_etude.mid] [/scratch/s203861/data/testing/Chopin/imprompt_fantastique.mid] [/scratch/s203861/data/testing/Chopin/nocturne_op09_n2.mid] [/scratch/s203861/data/testing/Chopin/waltz_op64_n1.mid] [/scratch/s203861/data/testing/Chopin/etude_op25_n11_winter_wind.mid] [/scratch/s203861/data/testing/Beethoven/ODE TO JOY2.mid] [/scratch/s203861/data/testing/Beethoven/bagatelle_fur_elise.mid] [/scratch/s203861/data/testing/Beethoven/piano_sonatas-piano_sonata_n23_op57_1mov_apassionata.mid] [/scratch/s203861/data/testing/Beethoven/piano_sonatas-piano_sonata_n23_op57_3mov_apassionata.mid] [/scratch/s203861/data/testing/Beethoven/piano_sonatas-piano_sonata_n21_3mov_waldstein.mid] [/scratch/s203861/data/testing/Beethoven/piano_sonatas-piano_sonata_n23_op57_2mov_apassionata.mid] [/scratch/s203861/data/testing/Beethoven/piano_sonatas-piano_sonata_n21_2mov_waldstein.mid] [/scratch/s203861/data/testing/Beethoven/piano_sonatas-piano_sonata_n21_1mov_waldstein.mid] [/scratch/s203861/data/testing/Beethoven/symphonies-symphony_n5_op67_1mov.mid] [/scratch/s203861/data/testing/Beethoven/piano_sonatas-piano_sonata_n32_op111.mid] [/scratch/s203861/data/testing/Beethoven/piano_sonatas-piano_sonata_n17_tempestat.mid] [/scratch/s203861/data/testing/Beethoven/piano_sonatas-piano_sonata_n14_op27_1mov_moonlight.mid] [/scratch/s203861/data/testing/Beethoven/piano_sonatas-piano_sonata_n13.mid] [/scratch/s203861/data/testing/Beethoven/piano_sonatas-piano_sonata_n14_op27_2mov_moonlight.mid] [/scratch/s203861/data/testing/Beethoven/piano_sonatas-piano_sonata_n14_op27_3mov_moonlight.mid]"
     ]
    }
   ],
   "source": [
    "processing.preprocess_midi_files('/scratch/s203861/data/testing', '/scratch/s203861/data/np_testing')"
   ]
  },
  {
   "cell_type": "code",
   "execution_count": 5,
   "metadata": {},
   "outputs": [
    {
     "name": "stdout",
     "output_type": "stream",
     "text": [
      "torch.Size([1, 1024])\n"
     ]
    }
   ],
   "source": [
    "loader = processing.DatasetLoader('/scratch/s203861/data/np_dataset')\n",
    "test_dataloader = loader.get_dataloader_full()\n",
    "for src, trg, meta in test_dataloader:\n",
    "    break\n",
    "print(src.shape)\n",
    "decoded = processing.decode(src[0])\n",
    "processing.note_to_midi(\n",
    "    decoded,\n",
    "    '/scratch/s203861/data/output.mid'\n",
    ")"
   ]
  },
  {
   "cell_type": "code",
   "execution_count": 6,
   "metadata": {},
   "outputs": [
    {
     "data": {
      "text/plain": [
       "tensor([  839, 16639, 16735, 17168, 17784,   835, 16639, 16673, 17152, 17784,\n",
       "          823, 16639, 16673, 17784,   835, 16639, 16673, 17186, 17784,   832],\n",
       "       device='cuda:0')"
      ]
     },
     "execution_count": 6,
     "metadata": {},
     "output_type": "execute_result"
    }
   ],
   "source": [
    "src[0][:20]"
   ]
  }
 ],
 "metadata": {
  "kernelspec": {
   "display_name": "Python 3 (ipykernel)",
   "language": "python",
   "name": "python3"
  },
  "language_info": {
   "codemirror_mode": {
    "name": "ipython",
    "version": 3
   },
   "file_extension": ".py",
   "mimetype": "text/x-python",
   "name": "python",
   "nbconvert_exporter": "python",
   "pygments_lexer": "ipython3",
   "version": "3.11.13"
  }
 },
 "nbformat": 4,
 "nbformat_minor": 4
}
