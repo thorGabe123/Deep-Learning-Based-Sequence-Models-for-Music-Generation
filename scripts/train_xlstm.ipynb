{
 "cells": [
  {
   "cell_type": "code",
   "execution_count": 1,
   "metadata": {},
   "outputs": [],
   "source": [
    "import sys\n",
    "sys.path.append('..')\n",
    "import processing\n",
    "\n",
    "loader = processing.DatasetLoader('..\\\\..\\\\dataset\\\\np_dataset')\n",
    "# train_dataloader, test_dataloader = loader.get_dataloaders()\n",
    "random_sample = loader.get_random_sample('train')\n",
    "src, trg, meta = random_sample"
   ]
  },
  {
   "cell_type": "code",
   "execution_count": 2,
   "metadata": {},
   "outputs": [
    {
     "name": "stderr",
     "output_type": "stream",
     "text": [
      "C:\\Users\\Draco\\AppData\\Local\\Temp\\ipykernel_19396\\2465649218.py:6: FutureWarning: You are using `torch.load` with `weights_only=False` (the current default value), which uses the default pickle module implicitly. It is possible to construct malicious pickle data which will execute arbitrary code during unpickling (See https://github.com/pytorch/pytorch/blob/main/SECURITY.md#untrusted-models for more details). In a future release, the default value for `weights_only` will be flipped to `True`. This limits the functions that could be executed during unpickling. Arbitrary objects will no longer be allowed to be loaded via this mode unless they are explicitly allowlisted by the user via `torch.serialization.add_safe_globals`. We recommend you start setting `weights_only=True` for any use case where you don't have full control of the loaded file. Please open an issue on GitHub for any issues related to this experimental feature.\n",
      "  model.load_state_dict(torch.load(f'../pretrained/{type}/{model_name}'))\n"
     ]
    }
   ],
   "source": [
    "from train import new_model\n",
    "import torch\n",
    "type = 'xlstm'\n",
    "model_name = 'loss_43.30_time_2025-03-15-18-46-18.pth'\n",
    "model = new_model(type)\n",
    "model.load_state_dict(torch.load(f'../pretrained/{type}/{model_name}'))\n",
    "model.to('cuda');"
   ]
  },
  {
   "cell_type": "code",
   "execution_count": 4,
   "metadata": {},
   "outputs": [],
   "source": [
    "output = model(src.unsqueeze(0).float())"
   ]
  },
  {
   "cell_type": "code",
   "execution_count": 20,
   "metadata": {},
   "outputs": [
    {
     "data": {
      "text/plain": [
       "tensor([[ 34, 257, 357, 357, 357, 833, 256, 256, 357, 357, 833, 833,  54, 257,\n",
       "         257, 357, 357, 833, 256, 257, 357, 357, 357, 833, 256, 257, 357, 357,\n",
       "         357, 833, 256, 257, 357, 357, 357, 833, 257, 257, 357, 357, 357, 833,\n",
       "         256, 257, 357, 357, 357, 833, 256, 257, 357, 357, 357, 833, 256, 257,\n",
       "         357, 357, 357, 833, 256, 257, 357, 357, 833, 833,  54, 257, 257, 357,\n",
       "         357, 833, 256, 257, 257, 357, 833, 833,  54, 257, 257, 357, 357, 833,\n",
       "          50, 257, 257, 357, 357, 833,  54, 257, 257, 357, 357, 833,  34, 257,\n",
       "         357, 357, 357, 833,  34, 257, 357, 357, 357, 833, 257, 256, 257, 357,\n",
       "         357, 833, 257, 257, 257, 357, 357, 833, 256, 257, 357, 357, 357, 833,\n",
       "         257, 257]], device='cuda:0')"
      ]
     },
     "execution_count": 20,
     "metadata": {},
     "output_type": "execute_result"
    }
   ],
   "source": [
    "import torch.nn.functional as F\n",
    "\n",
    "softmaxed_tensor = F.softmax(output, dim=-1)\n",
    "softmaxed_tensor.argmax(-1)"
   ]
  }
 ],
 "metadata": {
  "kernelspec": {
   "display_name": "Python 3",
   "language": "python",
   "name": "python3"
  },
  "language_info": {
   "codemirror_mode": {
    "name": "ipython",
    "version": 3
   },
   "file_extension": ".py",
   "mimetype": "text/x-python",
   "name": "python",
   "nbconvert_exporter": "python",
   "pygments_lexer": "ipython3",
   "version": "3.11.9"
  }
 },
 "nbformat": 4,
 "nbformat_minor": 2
}
