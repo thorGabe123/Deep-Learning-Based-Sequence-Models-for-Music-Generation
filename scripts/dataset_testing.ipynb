{
 "cells": [
  {
   "cell_type": "code",
   "execution_count": 1,
   "metadata": {},
   "outputs": [],
   "source": [
    "import sys\n",
    "sys.path.append('..')\n",
    "import processing\n",
    "import models\n",
    "import torch.optim as optim\n",
    "import torch.nn as nn\n",
    "import numpy as np\n",
    "import math\n",
    "import torch\n",
    "import json\n",
    "import configs.common as cc\n"
   ]
  },
  {
   "cell_type": "code",
   "execution_count": 2,
   "metadata": {},
   "outputs": [],
   "source": [
    "loader = processing.DatasetLoader('..\\\\..\\\\dataset\\\\np_dataset')\n",
    "train_data, test_data = loader.get_dataloaders()"
   ]
  },
  {
   "cell_type": "code",
   "execution_count": 3,
   "metadata": {},
   "outputs": [],
   "source": [
    "total = torch.tensor([], device='cuda')\n",
    "for batch_idx, (src, trg, metadata) in enumerate(train_data):\n",
    "    total = torch.concat((total, src.flatten()))"
   ]
  },
  {
   "cell_type": "code",
   "execution_count": 4,
   "metadata": {},
   "outputs": [
    {
     "data": {
      "text/plain": [
       "<BarContainer object of 963 artists>"
      ]
     },
     "execution_count": 4,
     "metadata": {},
     "output_type": "execute_result"
    },
    {
     "data": {
      "image/png": "[encoded data removed]",
      "text/plain": [
       "<Figure size 800x600 with 1 Axes>"
      ]
     },
     "metadata": {},
     "output_type": "display_data"
    }
   ],
   "source": [
    "flattened_tensor = total.int()\n",
    "bins = cc.vocab_size\n",
    "hist = torch.histc(flattened_tensor, bins=bins, min=0, max=cc.vocab_size)\n",
    "import matplotlib.pyplot as plt\n",
    "plt.figure(figsize=(8, 6))\n",
    "plt.bar(range(bins), hist.cpu().int().numpy(), width=1, align='center', color='blue', edgecolor='black')\n"
   ]
  },
  {
   "cell_type": "code",
   "execution_count": null,
   "metadata": {},
   "outputs": [
    {
     "name": "stdout",
     "output_type": "stream",
     "text": [
      "\n",
      "tensor(11.9597, device='cuda:0')\n"
     ]
    }
   ],
   "source": [
    "print(hist[357] / len(flattened_tensor) * 100)"
   ]
  },
  {
   "cell_type": "code",
   "execution_count": 5,
   "metadata": {},
   "outputs": [
    {
     "data": {
      "text/plain": [
       "tensor([274.,  72., 271., 357., 474.,  96., 227., 274., 492.,  53., 487.,  65.,\n",
       "        256., 271., 474., 106., 227., 278., 378., 492.,  53., 274., 474.,  98.,\n",
       "        357., 487.,  65., 217., 278.,  72., 274.,  65., 256., 271., 360., 474.,\n",
       "        103., 227., 285., 374., 487.,  65., 217., 274., 378.,  84., 281., 357.,\n",
       "         77.,  72., 271., 474.,  98., 227., 274., 487.,  67., 256., 271., 360.,\n",
       "        474., 104., 227., 278., 374., 487.,  65., 217., 274., 378.,  72., 271.,\n",
       "        357., 492.,  53., 227., 474.,  98., 274., 487.,  65., 256., 267., 360.,\n",
       "         60., 228., 274., 357.,  53., 216., 474., 106., 227., 374., 487.,  60.,\n",
       "        228., 378.,  53., 211.], device='cuda:0')"
      ]
     },
     "execution_count": 5,
     "metadata": {},
     "output_type": "execute_result"
    }
   ],
   "source": [
    "total[:100]"
   ]
  }
 ],
 "metadata": {
  "kernelspec": {
   "display_name": "Python 3",
   "language": "python",
   "name": "python3"
  },
  "language_info": {
   "codemirror_mode": {
    "name": "ipython",
    "version": 3
   },
   "file_extension": ".py",
   "mimetype": "text/x-python",
   "name": "python",
   "nbconvert_exporter": "python",
   "pygments_lexer": "ipython3",
   "version": "3.13.3"
  }
 },
 "nbformat": 4,
 "nbformat_minor": 2
}
