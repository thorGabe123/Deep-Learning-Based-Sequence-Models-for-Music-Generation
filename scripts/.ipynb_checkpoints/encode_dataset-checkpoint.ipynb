{
 "cells": [
  {
   "cell_type": "code",
   "execution_count": 1,
   "metadata": {},
   "outputs": [
    {
     "name": "stderr",
     "output_type": "stream",
     "text": [
      "/home/s203861/newenv/lib/python3.11/site-packages/pretty_midi/instrument.py:11: UserWarning: pkg_resources is deprecated as an API. See https://setuptools.pypa.io/en/latest/pkg_resources.html. The pkg_resources package is slated for removal as early as 2025-11-30. Refrain from using this package or pin to Setuptools<81.\n",
      "  import pkg_resources\n"
     ]
    }
   ],
   "source": [
    "import sys\n",
    "sys.path.append('..')\n",
    "import processing"
   ]
  },
  {
   "cell_type": "code",
   "execution_count": 2,
   "metadata": {},
   "outputs": [
    {
     "name": "stdout",
     "output_type": "stream",
     "text": [
      " [/scratch/s203861/data/dataset/data/Rachmaninov/rach3.mid] [/scratch/s203861/data/dataset/data/Rachmaninov/prelude_in_c_sharp_minormorceaux_de_fantasie.mid] [/scratch/s203861/data/dataset/data/Rachmaninov/prelude_op23_n4.mid] [/scratch/s203861/data/dataset/data/Rachmaninov/prelude_in_a_minor_op32_no_8.mid] [/scratch/s203861/data/dataset/data/Rachmaninov/paganini_variations_no18.mid]"
     ]
    },
    {
     "name": "stderr",
     "output_type": "stream",
     "text": [
      "/home/s203861/newenv/lib/python3.11/site-packages/pretty_midi/pretty_midi.py:100: RuntimeWarning: Tempo, Key or Time signature change events found on non-zero tracks.  This is not a valid type 0 or type 1 MIDI file.  Tempo, Key or Time Signature may be wrong.\n",
      "  warnings.warn(\n"
     ]
    },
    {
     "name": "stdout",
     "output_type": "stream",
     "text": [
      " [/scratch/s203861/data/dataset/data/Rachmaninov/raop3212.mid] [/scratch/s203861/data/dataset/data/Rachmaninov/prelude_op3_n1.mid] [/scratch/s203861/data/dataset/data/Rachmaninov/rach22.mid] [/scratch/s203861/data/dataset/data/Rachmaninov/prelude_op23_n5.mid] [/scratch/s203861/data/dataset/data/Rachmaninov/rach2_1.mid] [/scratch/s203861/data/dataset/data/Rachmaninov/385pag1.mid] [/scratch/s203861/data/dataset/data/Rachmaninov/concerto_n3_23movs.mid] [/scratch/s203861/data/dataset/data/Rachmaninov/polkadwr.mid] [/scratch/s203861/data/dataset/data/Rachmaninov/rchmprld.mid] [/scratch/s203861/data/dataset/data/Rachmaninov/etude_tableau_in_d_major.mid] [/scratch/s203861/data/dataset/data/Rachmaninov/prelude_op32_n1_.mid] [/scratch/s203861/data/dataset/data/Rachmaninov/rach23.mid] [/scratch/s203861/data/dataset/data/Rachmaninov/racelegy.mid] [/scratch/s203861/data/dataset/data/Rachmaninov/prelude_opus_32_no_11_in_b.mid] [/scratch/s203861/data/dataset/data/Rachmaninov/prelude_op32_n5_.mid] [/scratch/s203861/data/dataset/data/Rachmaninov/prelude_in_eb_minor_op23_no9.mid] [/scratch/s203861/data/dataset/data/Rachmaninov/piano_concerto_n1_2mov.mid] [/scratch/s203861/data/dataset/data/Rachmaninov/paganini_variations_no7.mid] [/scratch/s203861/data/dataset/data/Rachmaninov/rachconc13.mid] [/scratch/s203861/data/dataset/data/Rachmaninov/paganini_variations.mid] [/scratch/s203861/data/dataset/data/Rachmaninov/prelude_op32_n3.mid] [/scratch/s203861/data/dataset/data/Rachmaninov/rach2_2.mid] [/scratch/s203861/data/dataset/data/Rachmaninov/piano_concerto_no1_2nd_mov.mid] [/scratch/s203861/data/dataset/data/Rachmaninov/paganini_variations_no1.mid] [/scratch/s203861/data/dataset/data/Rachmaninov/paganini_variations_no8.mid] [/scratch/s203861/data/dataset/data/Rachmaninov/rachprel.mid] [/scratch/s203861/data/dataset/data/Rachmaninov/rachconc1_3.mid] [/scratch/s203861/data/dataset/data/Rachmaninov/rach21.mid] [/scratch/s203861/data/dataset/data/Rachmaninov/prelude_in_c_sharp_minor_morceaux_de_fantasie.mid] [/scratch/s203861/data/dataset/data/Rachmaninov/srapco31.mid] [/scratch/s203861/data/dataset/data/Rachmaninov/prelude_op32_n2.mid] [/scratch/s203861/data/dataset/data/Rachmaninov/piano_concerto_op18_n2_.mid] [/scratch/s203861/data/dataset/data/Rachmaninov/rach2_3.mid]"
     ]
    }
   ],
   "source": [
    "processing.preprocess_midi_files('/scratch/s203861/data/dataset/data/Rachmaninov', '/scratch/s203861/data/np_dataset')"
   ]
  },
  {
   "cell_type": "code",
   "execution_count": 5,
   "metadata": {},
   "outputs": [],
   "source": [
    "loader = processing.DatasetLoader('/scratch/s203861/data/np_dataset')\n",
    "test_dataloader = loader.get_dataloader_full()\n",
    "for src, trg, meta in test_dataloader:\n",
    "    break\n",
    "decoded = processing.decode(src[0])\n",
    "processing.note_to_midi(\n",
    "    decoded,\n",
    "    '/scratch/s203861/data/output.mid'\n",
    ")"
   ]
  }
 ],
 "metadata": {
  "kernelspec": {
   "display_name": "Python 3 (ipykernel)",
   "language": "python",
   "name": "python3"
  },
  "language_info": {
   "codemirror_mode": {
    "name": "ipython",
    "version": 3
   },
   "file_extension": ".py",
   "mimetype": "text/x-python",
   "name": "python",
   "nbconvert_exporter": "python",
   "pygments_lexer": "ipython3",
   "version": "3.11.13"
  }
 },
 "nbformat": 4,
 "nbformat_minor": 4
}
