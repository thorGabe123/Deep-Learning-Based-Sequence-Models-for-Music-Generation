{
 "cells": [
  {
   "cell_type": "code",
   "execution_count": null,
   "id": "ee0aba45-fa7a-4025-b998-fb91224752ac",
   "metadata": {},
   "outputs": [
    {
     "name": "stderr",
     "output_type": "stream",
     "text": [
      "/home/s203861/newenv/lib/python3.11/site-packages/pretty_midi/instrument.py:11: UserWarning: pkg_resources is deprecated as an API. See https://setuptools.pypa.io/en/latest/pkg_resources.html. The pkg_resources package is slated for removal as early as 2025-11-30. Refrain from using this package or pin to Setuptools<81.\n",
      "  import pkg_resources\n"
     ]
    }
   ],
   "source": [
    "import sys\n",
    "sys.path.append('..')\n",
    "import processing\n",
    "import configs.common as cc\n",
    "import configs.paths as paths\n",
    "from models.classifier import Classifier\n",
    "from train_classifier import get_all_targets\n",
    "import torch\n",
    "import json\n",
    "import os\n",
    "from train import load_model\n",
    "from generate import generate\n",
    "import train\n",
    "data_root = '/home/s203861/midi-classical-music/np_data/data'\n",
    "band_folders = [d for d in os.listdir(data_root) if os.path.isdir(os.path.join(data_root, d))]\n",
    "loader = processing.DatasetLoader(data_root)\n",
    "dataloader = loader.get_dataloader_full()"
   ]
  },
  {
   "cell_type": "code",
   "execution_count": null,
   "id": "dede80b1-2fbe-4857-897a-f7cf0bc7148b",
   "metadata": {},
   "outputs": [],
   "source": [
    "import sys\n",
    "sys.path.append('..')\n",
    "import torch\n",
    "from train import load_model, new_model\n",
    "import configs.common as cc\n",
    "\n",
    "no_meta = True\n",
    "type = 'xlstm'\n",
    "# name = cc.config.models.mamba #mamba\n",
    "# name = cc.config.models.transformer #transformer\n",
    "name = cc.config.models.xlstm #xlstm\n",
    "model = new_model(type)\n",
    "model.load_state_dict(torch.load(name))\n",
    "model.to('cuda')\n",
    "model.eval()\n",
    "print(sum(p.numel() for p in model.parameters() if p.requires_grad))\n",
    "print(torch.cuda.memory_allocated())"
   ]
  },
  {
   "cell_type": "code",
   "execution_count": null,
   "id": "7ae63515-3060-4174-9ef9-1d9329be07f4",
   "metadata": {},
   "outputs": [],
   "source": [
    "import torch\n",
    "from train import filtered_logit\n",
    "from collections import Counter\n",
    "\n",
    "criterion = torch.nn.CrossEntropyLoss()\n",
    "loader = processing.DatasetLoader(data_root)\n",
    "dataloader = loader.get_dataloader_full()\n",
    "model.eval()\n",
    "total_loss = 0\n",
    "\n",
    "intervals = {\n",
    "    'pitch': (cc.start_idx['pitch'], cc.start_idx['dyn'] - 1),\n",
    "    'dynamics': (cc.start_idx['dyn'], cc.start_idx['length'] - 1),\n",
    "    'length': (cc.start_idx['length'], cc.start_idx['time'] - 1),\n",
    "    'time': (cc.start_idx['time'], cc.start_idx['tempo'] - 1),\n",
    "    'tempo': (cc.start_idx['tempo'], cc.vocab_size)\n",
    "}\n",
    "\n",
    "def get_successrate(correct, tries):\n",
    "    success_rate = {}\n",
    "    for key, val in tries.items():\n",
    "        if val > 0:\n",
    "            success_rate[key] = correct[key] / val\n",
    "        else:\n",
    "            success_rate[key] = None\n",
    "    return success_rate\n",
    "\n",
    "correct = {'pitch': 0, 'dynamics': 0, 'length': 0, 'time': 0, 'tempo': 0}\n",
    "tries = {'pitch': 0, 'dynamics': 0, 'length': 0, 'time': 0, 'tempo': 0}\n",
    "\n",
    "# Lists to store incorrect predictions\n",
    "incorrect_src = []\n",
    "incorrect_meta = []\n",
    "incorrect_trg = []\n",
    "\n",
    "for batch_idx, (src, trg, meta) in enumerate(dataloader):\n",
    "    if no_meta:\n",
    "        meta = torch.zeros_like(meta, device=\"cuda\")\n",
    "    with torch.no_grad():\n",
    "        output = model(src, meta)\n",
    "    filtered_output = filtered_logit(src, output)\n",
    "    answers = trg[:, -1]\n",
    "    logits_last = filtered_output[:, -1, :]\n",
    "\n",
    "    guesses = logits_last.argmax(-1)\n",
    "    \n",
    "    filtered_output = filtered_output.reshape(-1, cc.vocab_size)\n",
    "\n",
    "    for idx, (guess, answer) in enumerate(zip(guesses, answers)):\n",
    "        for key, (low, high) in intervals.items():\n",
    "            if low <= answer < high:\n",
    "                tries[key] += 1\n",
    "                if guess == answer:\n",
    "                    correct[key] += 1\n",
    "                else:\n",
    "                    # Store incorrect predictions\n",
    "                    incorrect_src.append(src[idx].cpu().numpy())\n",
    "                    incorrect_meta.append(meta[idx].cpu().numpy())\n",
    "                    incorrect_trg.append(trg[idx].cpu().numpy())\n",
    "\n",
    "    trg = trg.view(-1)\n",
    "    loss = criterion(filtered_output, trg)\n",
    "    total_loss += loss.item()\n",
    "\n",
    "    if (batch_idx + 1) % cc.config.values.eval_interval == 0:\n",
    "        msg = f'{loss.item():.4f}'\n",
    "        print(f'Step: {batch_idx+1}, Loss: {msg}')\n",
    "\n",
    "avg_loss = total_loss / len(dataloader)\n",
    "msg = f'Average Loss: {avg_loss:.4f}'\n",
    "print(msg)"
   ]
  },
  {
   "cell_type": "code",
   "execution_count": null,
   "id": "592b0092-f13c-4359-9a02-b092a32f00ac",
   "metadata": {},
   "outputs": [],
   "source": [
    "get_successrate(correct, tries)"
   ]
  }
 ],
 "metadata": {
  "kernelspec": {
   "display_name": "Python 3 (ipykernel)",
   "language": "python",
   "name": "python3"
  },
  "language_info": {
   "codemirror_mode": {
    "name": "ipython",
    "version": 3
   },
   "file_extension": ".py",
   "mimetype": "text/x-python",
   "name": "python",
   "nbconvert_exporter": "python",
   "pygments_lexer": "ipython3",
   "version": "3.11.13"
  }
 },
 "nbformat": 4,
 "nbformat_minor": 5
}
