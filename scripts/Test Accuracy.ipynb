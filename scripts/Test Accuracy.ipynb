{
 "cells": [
  {
   "cell_type": "code",
   "execution_count": 1,
   "id": "ee0aba45-fa7a-4025-b998-fb91224752ac",
   "metadata": {},
   "outputs": [
    {
     "name": "stderr",
     "output_type": "stream",
     "text": [
      "/home/s203861/newenv/lib/python3.11/site-packages/pretty_midi/instrument.py:11: UserWarning: pkg_resources is deprecated as an API. See https://setuptools.pypa.io/en/latest/pkg_resources.html. The pkg_resources package is slated for removal as early as 2025-11-30. Refrain from using this package or pin to Setuptools<81.\n",
      "  import pkg_resources\n",
      "/home/s203861/newenv/lib/python3.11/site-packages/tqdm/auto.py:21: TqdmWarning: IProgress not found. Please update jupyter and ipywidgets. See https://ipywidgets.readthedocs.io/en/stable/user_install.html\n",
      "  from .autonotebook import tqdm as notebook_tqdm\n"
     ]
    }
   ],
   "source": [
    "import sys\n",
    "sys.path.append('..')\n",
    "import processing\n",
    "import configs.common as cc\n",
    "import configs.paths as paths\n",
    "from models.classifier import Classifier\n",
    "from train_classifier import get_all_targets\n",
    "import torch\n",
    "import json\n",
    "import os\n",
    "from train import load_model\n",
    "from generate import generate\n",
    "import train\n",
    "data_root = '/home/s203861/midi-classical-music/np_data/data'\n",
    "band_folders = [d for d in os.listdir(data_root) if os.path.isdir(os.path.join(data_root, d))]\n",
    "loader = processing.DatasetLoader(data_root)\n",
    "dataloader = loader.get_dataloader_full()"
   ]
  },
  {
   "cell_type": "code",
   "execution_count": 5,
   "id": "dede80b1-2fbe-4857-897a-f7cf0bc7148b",
   "metadata": {},
   "outputs": [
    {
     "name": "stdout",
     "output_type": "stream",
     "text": [
      "101496482\n",
      "1460876288\n"
     ]
    }
   ],
   "source": [
    "import sys\n",
    "sys.path.append('..')\n",
    "import torch\n",
    "from train import load_model, new_model\n",
    "import configs.common as cc\n",
    "\n",
    "no_meta = True\n",
    "type = 'mamba'\n",
    "name = cc.config.models.mamba #mamba\n",
    "# name = cc.config.models.transformer #transformer\n",
    "# name = cc.config.models.xlstm #xlstm\n",
    "model = new_model(type)\n",
    "model.load_state_dict(torch.load(name))\n",
    "model.to('cuda')\n",
    "model.eval()\n",
    "print(sum(p.numel() for p in model.parameters() if p.requires_grad))\n",
    "print(torch.cuda.memory_allocated())"
   ]
  },
  {
   "cell_type": "code",
   "execution_count": 6,
   "id": "7ae63515-3060-4174-9ef9-1d9329be07f4",
   "metadata": {},
   "outputs": [
    {
     "name": "stdout",
     "output_type": "stream",
     "text": [
      "Step: 10, Loss: 1.0875\n",
      "Step: 20, Loss: 0.9276\n",
      "Step: 30, Loss: 0.9646\n",
      "Step: 40, Loss: 0.9754\n",
      "Step: 50, Loss: 1.0045\n",
      "Step: 60, Loss: 1.3647\n",
      "Step: 70, Loss: 1.6482\n",
      "Step: 80, Loss: 2.0387\n",
      "Step: 90, Loss: 1.0358\n",
      "Step: 100, Loss: 1.0929\n",
      "Step: 110, Loss: 1.1526\n",
      "Step: 120, Loss: 1.5139\n",
      "Step: 130, Loss: 1.5464\n",
      "Step: 140, Loss: 1.1122\n",
      "Step: 150, Loss: 2.2183\n",
      "Step: 160, Loss: 1.2594\n",
      "Step: 170, Loss: 2.1753\n",
      "Step: 180, Loss: 2.3460\n",
      "Step: 190, Loss: 1.8657\n",
      "Step: 200, Loss: 1.4838\n",
      "Step: 210, Loss: 2.1248\n",
      "Step: 220, Loss: 2.0936\n",
      "Step: 230, Loss: 1.5294\n",
      "Step: 240, Loss: 1.3827\n",
      "Step: 250, Loss: 1.0004\n",
      "Step: 260, Loss: 1.4216\n",
      "Step: 270, Loss: 1.0448\n",
      "Step: 280, Loss: 1.3653\n",
      "Step: 290, Loss: 1.2297\n",
      "Step: 300, Loss: 1.4299\n",
      "Step: 310, Loss: 1.5453\n",
      "Step: 320, Loss: 1.3601\n",
      "Step: 330, Loss: 2.5918\n",
      "Step: 340, Loss: 3.1759\n",
      "Step: 350, Loss: 3.2407\n",
      "Step: 360, Loss: 3.3740\n",
      "Step: 370, Loss: 3.2056\n",
      "Step: 380, Loss: 3.2717\n",
      "Step: 390, Loss: 3.2536\n",
      "Step: 400, Loss: 3.3385\n",
      "Step: 410, Loss: 3.0725\n",
      "Step: 420, Loss: 3.0924\n",
      "Step: 430, Loss: 1.2929\n",
      "Step: 440, Loss: 1.3364\n",
      "Step: 450, Loss: 2.6050\n",
      "Step: 460, Loss: 1.2086\n",
      "Step: 470, Loss: 1.6971\n",
      "Step: 480, Loss: 1.6797\n",
      "Step: 490, Loss: 1.3836\n",
      "Step: 500, Loss: 1.6888\n",
      "Step: 510, Loss: 1.6638\n",
      "Step: 520, Loss: 1.8311\n",
      "Step: 530, Loss: 1.8084\n",
      "Step: 540, Loss: 2.5313\n",
      "Step: 550, Loss: 1.4970\n",
      "Step: 560, Loss: 1.6100\n",
      "Average Loss: 1.8361\n"
     ]
    }
   ],
   "source": [
    "import torch\n",
    "from train import filtered_logit\n",
    "from collections import Counter\n",
    "\n",
    "criterion = torch.nn.CrossEntropyLoss()\n",
    "loader = processing.DatasetLoader(data_root)\n",
    "dataloader = loader.get_dataloader_full()\n",
    "model.eval()\n",
    "total_loss = 0\n",
    "\n",
    "intervals = {\n",
    "    'pitch': (cc.start_idx['pitch'], cc.start_idx['dyn'] - 1),\n",
    "    'dynamics': (cc.start_idx['dyn'], cc.start_idx['length'] - 1),\n",
    "    'length': (cc.start_idx['length'], cc.start_idx['time'] - 1),\n",
    "    'time': (cc.start_idx['time'], cc.start_idx['tempo'] - 1),\n",
    "    'tempo': (cc.start_idx['tempo'], cc.vocab_size)\n",
    "}\n",
    "\n",
    "def get_successrate(correct, tries):\n",
    "    success_rate = {}\n",
    "    for key, val in tries.items():\n",
    "        if val > 0:\n",
    "            success_rate[key] = correct[key] / val\n",
    "        else:\n",
    "            success_rate[key] = None\n",
    "    return success_rate\n",
    "\n",
    "correct = {'pitch': 0, 'dynamics': 0, 'length': 0, 'time': 0, 'tempo': 0}\n",
    "tries = {'pitch': 0, 'dynamics': 0, 'length': 0, 'time': 0, 'tempo': 0}\n",
    "\n",
    "# Lists to store incorrect predictions\n",
    "incorrect_src = []\n",
    "incorrect_meta = []\n",
    "incorrect_trg = []\n",
    "\n",
    "for batch_idx, (src, trg, meta) in enumerate(dataloader):\n",
    "    if no_meta:\n",
    "        meta = torch.zeros_like(meta, device=\"cuda\")\n",
    "    with torch.no_grad():\n",
    "        output = model(src, meta)\n",
    "    filtered_output = filtered_logit(src, output)\n",
    "    answers = trg[:, -1]\n",
    "    logits_last = filtered_output[:, -1, :]\n",
    "\n",
    "    guesses = logits_last.argmax(-1)\n",
    "    \n",
    "    filtered_output = filtered_output.reshape(-1, cc.vocab_size)\n",
    "\n",
    "    for idx, (guess, answer) in enumerate(zip(guesses, answers)):\n",
    "        for key, (low, high) in intervals.items():\n",
    "            if low <= answer < high:\n",
    "                tries[key] += 1\n",
    "                if guess == answer:\n",
    "                    correct[key] += 1\n",
    "                else:\n",
    "                    # Store incorrect predictions\n",
    "                    incorrect_src.append(src[idx].cpu().numpy())\n",
    "                    incorrect_meta.append(meta[idx].cpu().numpy())\n",
    "                    incorrect_trg.append(trg[idx].cpu().numpy())\n",
    "\n",
    "    trg = trg.view(-1)\n",
    "    loss = criterion(filtered_output, trg)\n",
    "    total_loss += loss.item()\n",
    "\n",
    "    if (batch_idx + 1) % cc.config.values.eval_interval == 0:\n",
    "        msg = f'{loss.item():.4f}'\n",
    "        print(f'Step: {batch_idx+1}, Loss: {msg}')\n",
    "\n",
    "avg_loss = total_loss / len(dataloader)\n",
    "msg = f'Average Loss: {avg_loss:.4f}'\n",
    "print(msg)"
   ]
  },
  {
   "cell_type": "code",
   "execution_count": 7,
   "id": "592b0092-f13c-4359-9a02-b092a32f00ac",
   "metadata": {},
   "outputs": [
    {
     "data": {
      "text/plain": [
       "{'pitch': 0.3386411889596603,\n",
       " 'dynamics': 0.7434367541766109,\n",
       " 'length': 0.7089627391742196,\n",
       " 'time': 0.8675496688741722,\n",
       " 'tempo': 0.9678800856531049}"
      ]
     },
     "execution_count": 7,
     "metadata": {},
     "output_type": "execute_result"
    }
   ],
   "source": [
    "get_successrate(correct, tries)"
   ]
  }
 ],
 "metadata": {
  "kernelspec": {
   "display_name": "Python 3 (ipykernel)",
   "language": "python",
   "name": "python3"
  },
  "language_info": {
   "codemirror_mode": {
    "name": "ipython",
    "version": 3
   },
   "file_extension": ".py",
   "mimetype": "text/x-python",
   "name": "python",
   "nbconvert_exporter": "python",
   "pygments_lexer": "ipython3",
   "version": "3.11.13"
  }
 },
 "nbformat": 4,
 "nbformat_minor": 5
}
