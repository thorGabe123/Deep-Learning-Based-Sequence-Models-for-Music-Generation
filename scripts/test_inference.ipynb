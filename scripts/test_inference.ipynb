{
 "cells": [
  {
   "cell_type": "code",
   "execution_count": 16,
   "id": "b851914a-e5a8-4353-b26e-0e0895130641",
   "metadata": {
    "scrolled": true
   },
   "outputs": [],
   "source": [
    "import sys\n",
    "sys.path.append('..')\n",
    "import processing\n",
    "import configs.common as cc\n",
    "import train\n",
    "from train import new_model\n",
    "import torch\n",
    "import configs.paths as paths\n",
    "import argparse\n",
    "import os\n",
    "from collections import Counter\n",
    "from generate import generate\n",
    "\n",
    "data_root = \"/home/s203861/midi-classical-music/np_data/data\"\n",
    "model_name = \"xlstm\"\n",
    "\n",
    "if model_name == \"mamba\":\n",
    "    model = new_model(\"mamba\")\n",
    "    model.load_state_dict(torch.load(cc.config.models.mamba))\n",
    "    model.to('cuda')\n",
    "if model_name == \"xlstm\":\n",
    "    model = new_model(\"xlstm\")\n",
    "    model.load_state_dict(torch.load(cc.config.models.xlstm))\n",
    "    model.to('cuda')\n",
    "if model_name == \"transformer\":\n",
    "    model = new_model(\"transformer\")\n",
    "    model.load_state_dict(torch.load(cc.config.models.transformer))\n",
    "    model.to('cuda')"
   ]
  },
  {
   "cell_type": "code",
   "execution_count": 17,
   "id": "e96a5caf-e49f-43f0-9962-bda53ff6bf40",
   "metadata": {},
   "outputs": [
    {
     "name": "stdout",
     "output_type": "stream",
     "text": [
      "Average inference time per output: 0.072655 seconds: total time 7.265500783920288\n"
     ]
    }
   ],
   "source": [
    "import time\n",
    "\n",
    "loader = processing.DatasetLoader(data_root)\n",
    "dataloader = loader.get_dataloader_full()\n",
    "\n",
    "num_outputs = 100\n",
    "inference_times = []\n",
    "model.train()\n",
    "\n",
    "for src, trg, meta in dataloader:\n",
    "    start_time = time.time()\n",
    "    \n",
    "    for _ in range(num_outputs):\n",
    "        with torch.no_grad():\n",
    "            model(src, meta)\n",
    "    \n",
    "    end_time = time.time()\n",
    "    \n",
    "    total_time = end_time - start_time\n",
    "    avg_time_per_output = total_time / num_outputs\n",
    "    \n",
    "    inference_times.append(avg_time_per_output)\n",
    "    \n",
    "    break\n",
    "\n",
    "# Print the average inference time for 100 outputs\n",
    "print(f\"Average inference time per output: {avg_time_per_output:.6f} seconds: total time {total_time}\")"
   ]
  },
  {
   "cell_type": "code",
   "execution_count": 9,
   "id": "831a3cbb-24fa-4b41-bc90-05cd9b6b33b5",
   "metadata": {},
   "outputs": [
    {
     "data": {
      "text/plain": [
       "835563520"
      ]
     },
     "execution_count": 9,
     "metadata": {},
     "output_type": "execute_result"
    }
   ],
   "source": [
    "torch.cuda.memory_allocated()"
   ]
  }
 ],
 "metadata": {
  "kernelspec": {
   "display_name": "Python 3 (ipykernel)",
   "language": "python",
   "name": "python3"
  },
  "language_info": {
   "codemirror_mode": {
    "name": "ipython",
    "version": 3
   },
   "file_extension": ".py",
   "mimetype": "text/x-python",
   "name": "python",
   "nbconvert_exporter": "python",
   "pygments_lexer": "ipython3",
   "version": "3.11.13"
  }
 },
 "nbformat": 4,
 "nbformat_minor": 5
}
