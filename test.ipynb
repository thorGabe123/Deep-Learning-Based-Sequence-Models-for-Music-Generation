{
 "cells": [
  {
   "cell_type": "code",
   "execution_count": 1,
   "metadata": {},
   "outputs": [],
   "source": [
    "import argparse\n",
    "import torch\n",
    "import configs.mamba as cm\n",
    "import configs.xlstm as cx\n",
    "import configs.transformer as ct\n",
    "import configs.common as cc\n",
    "import models\n",
    "\n",
    "# def train(type, name):\n",
    "#     if type == \"mamba\":\n",
    "#         model = models.mamba.Mamba()\n",
    "#         pass\n",
    "#     elif type == \"xlstm\":\n",
    "#         model = models.xlstm.xLSTM()\n",
    "#         pass\n",
    "#     elif type == \"transformer\":\n",
    "#         model = models.transformer.Transformer()\n",
    "#         pass\n",
    "#     # loaded_model = torch.load(f'models/{model}/{name}.pth')\n",
    "#     # model.load_state_dict(state_dict)\n",
    "\n",
    "\n",
    "\n",
    "\n",
    "# if __name__ == \"__main__\":\n",
    "#     parser = argparse.ArgumentParser(description=\"Training Script\")\n",
    "\n",
    "#     # Add command-line arguments\n",
    "#     parser.add_argument(\"--model\",\n",
    "#                     type=str,\n",
    "#                     default=\"mamba\",\n",
    "#                     choices=[\"mamba\", \"xlstm\", \"transformer\"],  # List of allowed choices\n",
    "#                     help=\"Model name (choices: mamba, xlstm, transformer)\")\n",
    "#     parser.add_argument(\"--name\", type=str, help=\"Name of the model to train, e.g. mamba1000.pth\")\n",
    "#     # parser.add_argument(\"--batch_size\", type=int, default=32, help=\"Batch size\")\n",
    "#     # parser.add_argument(\"--learning_rate\", type=float, default=0.001, help=\"Learning rate\")\n",
    "\n",
    "#     # Parse arguments\n",
    "#     args = parser.parse_args()\n",
    "\n",
    "#     # Call training function\n",
    "#     train(args.model, args.name)\n",
    "\n",
    "\n"
   ]
  },
  {
   "cell_type": "code",
   "execution_count": 2,
   "metadata": {},
   "outputs": [
    {
     "ename": "TypeError",
     "evalue": "Mamba.__init__() missing 1 required positional argument: 'args'",
     "output_type": "error",
     "traceback": [
      "\u001b[1;31m---------------------------------------------------------------------------\u001b[0m",
      "\u001b[1;31mTypeError\u001b[0m                                 Traceback (most recent call last)",
      "Cell \u001b[1;32mIn[2], line 1\u001b[0m\n\u001b[1;32m----> 1\u001b[0m model \u001b[38;5;241m=\u001b[39m \u001b[43mmodels\u001b[49m\u001b[38;5;241;43m.\u001b[39;49m\u001b[43mmamba\u001b[49m\u001b[38;5;241;43m.\u001b[39;49m\u001b[43mMamba\u001b[49m\u001b[43m(\u001b[49m\u001b[43m)\u001b[49m\n",
      "\u001b[1;31mTypeError\u001b[0m: Mamba.__init__() missing 1 required positional argument: 'args'"
     ]
    }
   ],
   "source": [
    "model = models.mamba.Mamba()"
   ]
  }
 ],
 "metadata": {
  "kernelspec": {
   "display_name": "Python 3",
   "language": "python",
   "name": "python3"
  },
  "language_info": {
   "codemirror_mode": {
    "name": "ipython",
    "version": 3
   },
   "file_extension": ".py",
   "mimetype": "text/x-python",
   "name": "python",
   "nbconvert_exporter": "python",
   "pygments_lexer": "ipython3",
   "version": "3.11.9"
  }
 },
 "nbformat": 4,
 "nbformat_minor": 2
}
