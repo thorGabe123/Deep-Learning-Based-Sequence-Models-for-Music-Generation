{
 "cells": [
  {
   "cell_type": "code",
   "execution_count": 1,
   "metadata": {},
   "outputs": [],
   "source": [
    "import os\n",
    "import numpy as np\n",
    "import pretty_midi\n",
    "from note import MIDI_note\n",
    "\n",
    "def find_files_by_extensions(root, exts=[]):\n",
    "    def _has_ext(name):\n",
    "        if not exts:\n",
    "            return True\n",
    "        name = name.lower()\n",
    "        for ext in exts:\n",
    "            if name.endswith(ext):\n",
    "                return True\n",
    "        return False\n",
    "    for path, _, files in os.walk(root):\n",
    "        for name in files:\n",
    "            if _has_ext(name):\n",
    "                yield os.path.join(path, name)\n",
    "    return files\n",
    "\n",
    "def preprocess_midi_files_under(midi_folder, preprocess_folder):\n",
    "    midi_paths = list(find_files_by_extensions(midi_folder, ['.mid', '.midi']))\n",
    "    os.makedirs(midi_folder, exist_ok=True)\n",
    "    os.makedirs(preprocess_folder, exist_ok=True)\n",
    "\n",
    "    for path in midi_paths:\n",
    "        file_name = os.path.split(path)[1]\n",
    "        new_path = os.path.join(preprocess_folder, file_name)\n",
    "        \n",
    "        print(' ', end='[{}]'.format(path), flush=True)\n",
    "        if os.path.exists(new_path + '.npz'):\n",
    "            continue\n",
    "\n",
    "        token_seq, channel_seq, tempo_seq = encode(path)\n",
    "        np.savez(new_path + \".npz\", token_seq=token_seq, channel_seq=channel_seq, tempo_seq=tempo_seq)\n",
    "\n",
    "def extract_midi(path):\n",
    "    mid = pretty_midi.PrettyMIDI(midi_file=path)\n",
    "    tempo_times, tempo_bpm = mid.get_tempo_changes()\n",
    "    end_time = mid.get_end_time()\n",
    "    tempo_times = np.append(tempo_times, end_time)\n",
    "\n",
    "    midi_notes = []\n",
    "    for inst in mid.instruments:\n",
    "        channel = inst.program\n",
    "        for n in inst.notes:\n",
    "            idx = next((i for i, t in enumerate(tempo_bpm) if tempo_times[i] <= n.start < tempo_times[i + 1]))\n",
    "        \n",
    "            midi_notes.append(MIDI_note(pitch=n.pitch, time_start=n.start, time_end=n.end, dynamic=n.velocity, channel=channel, tempo=round(tempo_bpm[idx])))\n",
    "\n",
    "    midi_notes = list(set(midi_notes))\n",
    "    midi_notes = sorted(midi_notes, key=lambda note: note.time_start)\n",
    "\n",
    "    return midi_notes, tempo_times, tempo_bpm\n",
    "\n",
    "def get_beats_and_tempo(tempo_times, tempo_bpm):\n",
    "    res_per_beat = 12\n",
    "    resolutions = []\n",
    "    total_beats = [0]\n",
    "\n",
    "    for idx, val in enumerate(tempo_times[:-1]):\n",
    "        beat_length = 60 / tempo_bpm[idx]\n",
    "        resolution = beat_length / res_per_beat\n",
    "        resolutions.append(resolution)\n",
    "        \n",
    "        num_beats = round((tempo_times[idx + 1] - val) / resolution)\n",
    "        total_beats.append(num_beats + total_beats[idx])\n",
    "\n",
    "    # Convert lists to NumPy arrays\n",
    "    resolutions = np.array(resolutions)\n",
    "    total_beats = np.array(total_beats)\n",
    "    return resolutions, total_beats\n",
    "\n",
    "def adjust_note_time(midi_notes, tempo_times, resolutions, total_beats, attribute):\n",
    "    for n in midi_notes:\n",
    "        idx = 0  # Reset idx for each note\n",
    "        while idx < len(tempo_times) - 1:\n",
    "            if tempo_times[idx] <= getattr(n, attribute) < tempo_times[idx + 1]:\n",
    "                ticks = (getattr(n, attribute) - tempo_times[idx]) / resolutions[idx]\n",
    "                setattr(n, attribute, np.round(total_beats[idx] + ticks))\n",
    "                break\n",
    "            elif idx < len(tempo_times) - 2:\n",
    "                idx += 1\n",
    "            else:\n",
    "                break\n",
    "\n",
    "PITCH_RES = 128\n",
    "DYN_RES = 128\n",
    "LENGTH_RES = 400\n",
    "TIME_RES = 400\n",
    "\n",
    "START_IDX = {\n",
    "    'PITCH_RES' : 0,\n",
    "    'DYN_RES' : PITCH_RES,\n",
    "    'LENGTH_RES' : PITCH_RES + DYN_RES,\n",
    "    'TIME_RES' : PITCH_RES + DYN_RES + LENGTH_RES\n",
    "}\n",
    "\n",
    "def encode(path):\n",
    "    midi_notes, tempo_times, tempo_bpm = extract_midi(path)\n",
    "    resolutions, total_beats = get_beats_and_tempo(tempo_times, tempo_bpm)\n",
    "    adjust_note_time(midi_notes, tempo_times, resolutions, total_beats, 'time_start')\n",
    "    adjust_note_time(midi_notes, tempo_times, resolutions, total_beats, 'time_end')\n",
    "\n",
    "    token_seq, channel_seq, tempo_seq = [], [], []\n",
    "    for idx, m in enumerate(midi_notes[:-1]):\n",
    "        token_seq.extend([START_IDX['DYN_RES'] + m.dynamic, START_IDX['PITCH_RES'] + m.pitch, START_IDX['LENGTH_RES'] + m.time_end - m.time_start, START_IDX['TIME_RES'] + midi_notes[idx + 1].time_start - m.time_start])\n",
    "        channel_seq.append(m.channel)\n",
    "        tempo_seq.append(m.tempo)\n",
    "\n",
    "    return token_seq, channel_seq, tempo_seq"
   ]
  },
  {
   "cell_type": "code",
   "execution_count": 2,
   "metadata": {},
   "outputs": [
    {
     "name": "stdout",
     "output_type": "stream",
     "text": [
      " [F:\\GitHub\\dataset\\midi_dataset\\Beethoven - Symphony no. 5.mid] [F:\\GitHub\\dataset\\midi_dataset\\Beethoven - Symphony no. 6 - 1st movement.mid] [F:\\GitHub\\dataset\\midi_dataset\\Beethoven - Symphony no. 7 - 2nd movement.mid] [F:\\GitHub\\dataset\\midi_dataset\\Beethoven - Symphony no. 9 - 2nd movement.mid] [F:\\GitHub\\dataset\\midi_dataset\\Beethoven - Symphony no. 9 - 4th movement.mid] [F:\\GitHub\\dataset\\midi_dataset\\Dukas - Sorcerer's Apprentice.mid] [F:\\GitHub\\dataset\\midi_dataset\\Hans_Zimmer_-_Pirates_Of_The_Caribbean_-_He's_A_Pirate.mid]"
     ]
    },
    {
     "name": "stderr",
     "output_type": "stream",
     "text": [
      "C:\\Users\\Draco\\AppData\\Local\\Packages\\PythonSoftwareFoundation.Python.3.11_qbz5n2kfra8p0\\LocalCache\\local-packages\\Python311\\site-packages\\pretty_midi\\pretty_midi.py:100: RuntimeWarning: Tempo, Key or Time signature change events found on non-zero tracks.  This is not a valid type 0 or type 1 MIDI file.  Tempo, Key or Time Signature may be wrong.\n",
      "  warnings.warn(\n"
     ]
    },
    {
     "name": "stdout",
     "output_type": "stream",
     "text": [
      " [F:\\GitHub\\dataset\\midi_dataset\\Mozart - Eine Kleine Nachtmusik.mid] [F:\\GitHub\\dataset\\midi_dataset\\Mozart - Lacrimoza.mid] [F:\\GitHub\\dataset\\midi_dataset\\Mozart - Marige of Figaro.mid] [F:\\GitHub\\dataset\\midi_dataset\\Mozart - Queen of the Night.mid] [F:\\GitHub\\dataset\\midi_dataset\\Mozart - Symphony no. 40.mid] [F:\\GitHub\\dataset\\midi_dataset\\Mozart - Symphony no. 41 - 3rd movement.mid] [F:\\GitHub\\dataset\\midi_dataset\\Paul Dukas - Sorcerer's Apprentice.mid]"
     ]
    }
   ],
   "source": [
    "preprocess_midi_files_under('F:\\\\GitHub\\\\dataset\\\\midi_dataset', 'F:\\\\GitHub\\\\dataset\\\\np_dataset')"
   ]
  },
  {
   "cell_type": "code",
   "execution_count": 3,
   "metadata": {},
   "outputs": [],
   "source": [
    "loaded = np.load(\"F:\\\\GitHub\\\\dataset\\\\np_dataset\\\\Mozart - Lacrimoza.mid.npz\")\n",
    "token_seq = loaded[\"token_seq\"]\n",
    "channel_seq = loaded[\"channel_seq\"]\n",
    "tempo_seq = loaded[\"tempo_seq\"]"
   ]
  },
  {
   "cell_type": "code",
   "execution_count": 4,
   "metadata": {},
   "outputs": [
    {
     "data": {
      "text/plain": [
       "array([ 48., 193., 268., ..., 194., 328., 656.])"
      ]
     },
     "execution_count": 4,
     "metadata": {},
     "output_type": "execute_result"
    }
   ],
   "source": [
    "token_seq"
   ]
  }
 ],
 "metadata": {
  "kernelspec": {
   "display_name": "Python 3",
   "language": "python",
   "name": "python3"
  },
  "language_info": {
   "codemirror_mode": {
    "name": "ipython",
    "version": 3
   },
   "file_extension": ".py",
   "mimetype": "text/x-python",
   "name": "python",
   "nbconvert_exporter": "python",
   "pygments_lexer": "ipython3",
   "version": "3.11.9"
  }
 },
 "nbformat": 4,
 "nbformat_minor": 2
}
