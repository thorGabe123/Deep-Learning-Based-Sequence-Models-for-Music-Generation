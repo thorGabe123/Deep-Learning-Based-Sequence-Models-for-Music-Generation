{
 "cells": [
  {
   "cell_type": "code",
   "execution_count": 4,
   "metadata": {},
   "outputs": [],
   "source": [
    "import argparse\n",
    "import torch\n",
    "import configs.mamba as cm\n",
    "import configs.xlstm as cx\n",
    "import configs.transformer as ct\n",
    "import configs.common as cc\n",
    "import models\n",
    "import math\n",
    "\n",
    "# def train(type, name):\n",
    "#     if type == \"mamba\":\n",
    "#         model = models.mamba.Mamba()\n",
    "#         pass\n",
    "#     elif type == \"xlstm\":\n",
    "#         model = models.xlstm.xLSTM()\n",
    "#         pass\n",
    "#     elif type == \"transformer\":\n",
    "#         model = models.transformer.Transformer()\n",
    "#         pass\n",
    "#     # loaded_model = torch.load(f'models/{model}/{name}.pth')\n",
    "#     # model.load_state_dict(state_dict)\n",
    "\n",
    "\n",
    "\n",
    "\n",
    "# if __name__ == \"__main__\":\n",
    "#     parser = argparse.ArgumentParser(description=\"Training Script\")\n",
    "\n",
    "#     # Add command-line arguments\n",
    "#     parser.add_argument(\"--model\",\n",
    "#                     type=str,\n",
    "#                     default=\"mamba\",\n",
    "#                     choices=[\"mamba\", \"xlstm\", \"transformer\"],  # List of allowed choices\n",
    "#                     help=\"Model name (choices: mamba, xlstm, transformer)\")\n",
    "#     parser.add_argument(\"--name\", type=str, help=\"Name of the model to train, e.g. mamba1000.pth\")\n",
    "#     # parser.add_argument(\"--batch_size\", type=int, default=32, help=\"Batch size\")\n",
    "#     # parser.add_argument(\"--learning_rate\", type=float, default=0.001, help=\"Learning rate\")\n",
    "\n",
    "#     # Parse arguments\n",
    "#     args = parser.parse_args()\n",
    "\n",
    "#     # Call training function\n",
    "#     train(args.model, args.name)\n",
    "\n",
    "\n"
   ]
  },
  {
   "cell_type": "code",
   "execution_count": 5,
   "metadata": {},
   "outputs": [],
   "source": [
    "config_values = cm.config_dict['model_values']\n",
    "config_values['vocab_size'] = cc.vocab_size\n",
    "config_values['d_inner'] = int(config_values['expand'] * config_values['d_model'])\n",
    "config_values['dt_rank'] = math.ceil(config_values['d_model'] / 16)\n",
    "    \n",
    "if config_values['vocab_size'] % config_values['pad_vocab_size_multiple'] != 0:\n",
    "    config_values['vocab_size'] += (config_values['pad_vocab_size_multiple'] - config_values['vocab_size'] % config_values['pad_vocab_size_multiple'])\n",
    "\n",
    "model = models.mamba.Mamba(config_values)\n"
   ]
  },
  {
   "cell_type": "code",
   "execution_count": 53,
   "metadata": {},
   "outputs": [
    {
     "name": "stdout",
     "output_type": "stream",
     "text": [
      "12\n"
     ]
    },
    {
     "ename": "TypeError",
     "evalue": "'int' object is not subscriptable",
     "output_type": "error",
     "traceback": [
      "\u001b[1;31m---------------------------------------------------------------------------\u001b[0m",
      "\u001b[1;31mTypeError\u001b[0m                                 Traceback (most recent call last)",
      "Cell \u001b[1;32mIn[53], line 4\u001b[0m\n\u001b[0;32m      2\u001b[0m \u001b[38;5;28;01mfor\u001b[39;00m key, value \u001b[38;5;129;01min\u001b[39;00m cm\u001b[38;5;241m.\u001b[39mconfig_dict[\u001b[38;5;124m'\u001b[39m\u001b[38;5;124mmodel_values\u001b[39m\u001b[38;5;124m'\u001b[39m]\u001b[38;5;241m.\u001b[39mitems():\n\u001b[0;32m      3\u001b[0m     \u001b[38;5;28mprint\u001b[39m(value)\n\u001b[1;32m----> 4\u001b[0m     \u001b[43mparser\u001b[49m\u001b[38;5;241;43m.\u001b[39;49m\u001b[43madd_argument\u001b[49m\u001b[43m(\u001b[49m\u001b[38;5;124;43mf\u001b[39;49m\u001b[38;5;124;43m'\u001b[39;49m\u001b[38;5;124;43m--\u001b[39;49m\u001b[38;5;132;43;01m{\u001b[39;49;00m\u001b[43mkey\u001b[49m\u001b[38;5;132;43;01m}\u001b[39;49;00m\u001b[38;5;124;43m'\u001b[39;49m\u001b[43m,\u001b[49m\u001b[43m \u001b[49m\u001b[43mvalue\u001b[49m\u001b[43m)\u001b[49m\n",
      "File \u001b[1;32mC:\\Program Files\\WindowsApps\\PythonSoftwareFoundation.Python.3.11_3.11.2544.0_x64__qbz5n2kfra8p0\\Lib\\argparse.py:1441\u001b[0m, in \u001b[0;36m_ActionsContainer.add_argument\u001b[1;34m(self, *args, **kwargs)\u001b[0m\n\u001b[0;32m   1437\u001b[0m     kwargs \u001b[38;5;241m=\u001b[39m \u001b[38;5;28mself\u001b[39m\u001b[38;5;241m.\u001b[39m_get_positional_kwargs(\u001b[38;5;241m*\u001b[39margs, \u001b[38;5;241m*\u001b[39m\u001b[38;5;241m*\u001b[39mkwargs)\n\u001b[0;32m   1439\u001b[0m \u001b[38;5;66;03m# otherwise, we're adding an optional argument\u001b[39;00m\n\u001b[0;32m   1440\u001b[0m \u001b[38;5;28;01melse\u001b[39;00m:\n\u001b[1;32m-> 1441\u001b[0m     kwargs \u001b[38;5;241m=\u001b[39m \u001b[38;5;28;43mself\u001b[39;49m\u001b[38;5;241;43m.\u001b[39;49m\u001b[43m_get_optional_kwargs\u001b[49m\u001b[43m(\u001b[49m\u001b[38;5;241;43m*\u001b[39;49m\u001b[43margs\u001b[49m\u001b[43m,\u001b[49m\u001b[43m \u001b[49m\u001b[38;5;241;43m*\u001b[39;49m\u001b[38;5;241;43m*\u001b[39;49m\u001b[43mkwargs\u001b[49m\u001b[43m)\u001b[49m\n\u001b[0;32m   1443\u001b[0m \u001b[38;5;66;03m# if no default was supplied, use the parser-level default\u001b[39;00m\n\u001b[0;32m   1444\u001b[0m \u001b[38;5;28;01mif\u001b[39;00m \u001b[38;5;124m'\u001b[39m\u001b[38;5;124mdefault\u001b[39m\u001b[38;5;124m'\u001b[39m \u001b[38;5;129;01mnot\u001b[39;00m \u001b[38;5;129;01min\u001b[39;00m kwargs:\n",
      "File \u001b[1;32mC:\\Program Files\\WindowsApps\\PythonSoftwareFoundation.Python.3.11_3.11.2544.0_x64__qbz5n2kfra8p0\\Lib\\argparse.py:1571\u001b[0m, in \u001b[0;36m_ActionsContainer._get_optional_kwargs\u001b[1;34m(self, *args, **kwargs)\u001b[0m\n\u001b[0;32m   1568\u001b[0m long_option_strings \u001b[38;5;241m=\u001b[39m []\n\u001b[0;32m   1569\u001b[0m \u001b[38;5;28;01mfor\u001b[39;00m option_string \u001b[38;5;129;01min\u001b[39;00m args:\n\u001b[0;32m   1570\u001b[0m     \u001b[38;5;66;03m# error on strings that don't start with an appropriate prefix\u001b[39;00m\n\u001b[1;32m-> 1571\u001b[0m     \u001b[38;5;28;01mif\u001b[39;00m \u001b[38;5;129;01mnot\u001b[39;00m \u001b[43moption_string\u001b[49m\u001b[43m[\u001b[49m\u001b[38;5;241;43m0\u001b[39;49m\u001b[43m]\u001b[49m \u001b[38;5;129;01min\u001b[39;00m \u001b[38;5;28mself\u001b[39m\u001b[38;5;241m.\u001b[39mprefix_chars:\n\u001b[0;32m   1572\u001b[0m         args \u001b[38;5;241m=\u001b[39m {\u001b[38;5;124m'\u001b[39m\u001b[38;5;124moption\u001b[39m\u001b[38;5;124m'\u001b[39m: option_string,\n\u001b[0;32m   1573\u001b[0m                 \u001b[38;5;124m'\u001b[39m\u001b[38;5;124mprefix_chars\u001b[39m\u001b[38;5;124m'\u001b[39m: \u001b[38;5;28mself\u001b[39m\u001b[38;5;241m.\u001b[39mprefix_chars}\n\u001b[0;32m   1574\u001b[0m         msg \u001b[38;5;241m=\u001b[39m _(\u001b[38;5;124m'\u001b[39m\u001b[38;5;124minvalid option string \u001b[39m\u001b[38;5;132;01m%(option)r\u001b[39;00m\u001b[38;5;124m: \u001b[39m\u001b[38;5;124m'\u001b[39m\n\u001b[0;32m   1575\u001b[0m                 \u001b[38;5;124m'\u001b[39m\u001b[38;5;124mmust start with a character \u001b[39m\u001b[38;5;132;01m%(prefix_chars)r\u001b[39;00m\u001b[38;5;124m'\u001b[39m)\n",
      "\u001b[1;31mTypeError\u001b[0m: 'int' object is not subscriptable"
     ]
    }
   ],
   "source": [
    "parser = argparse.ArgumentParser()\n",
    "for key, value in cm.config_dict['model_values'].items():\n",
    "    print(value)\n",
    "    parser.add_argument(f'--{key}', value)"
   ]
  },
  {
   "cell_type": "code",
   "execution_count": 54,
   "metadata": {},
   "outputs": [
    {
     "data": {
      "text/plain": [
       "{'d_model': 12,\n",
       " 'n_layer': 4,\n",
       " 'd_state': 8,\n",
       " 'expand': 4,\n",
       " 'dt_rank': 64,\n",
       " 'd_conv': 6,\n",
       " 'pad_vocab_size_multiple': 1,\n",
       " 'conv_bias': True,\n",
       " 'bias': False}"
      ]
     },
     "execution_count": 54,
     "metadata": {},
     "output_type": "execute_result"
    }
   ],
   "source": [
    "cm.config_dict['model_values']"
   ]
  }
 ],
 "metadata": {
  "kernelspec": {
   "display_name": "Python 3",
   "language": "python",
   "name": "python3"
  },
  "language_info": {
   "codemirror_mode": {
    "name": "ipython",
    "version": 3
   },
   "file_extension": ".py",
   "mimetype": "text/x-python",
   "name": "python",
   "nbconvert_exporter": "python",
   "pygments_lexer": "ipython3",
   "version": "3.11.9"
  }
 },
 "nbformat": 4,
 "nbformat_minor": 2
}
