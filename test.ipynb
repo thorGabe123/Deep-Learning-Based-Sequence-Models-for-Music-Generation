{
 "cells": [
  {
   "cell_type": "code",
   "execution_count": 251,
   "metadata": {},
   "outputs": [],
   "source": [
    "from dataset import *\n",
    "from processing import *"
   ]
  },
  {
   "cell_type": "code",
   "execution_count": 213,
   "metadata": {},
   "outputs": [
    {
     "name": "stdout",
     "output_type": "stream",
     "text": [
      " [F:\\GitHub\\dataset\\midi_dataset\\Beethoven - Symphony no. 5.mid] [F:\\GitHub\\dataset\\midi_dataset\\Beethoven - Symphony no. 6 - 1st movement.mid] [F:\\GitHub\\dataset\\midi_dataset\\Beethoven - Symphony no. 7 - 2nd movement.mid] [F:\\GitHub\\dataset\\midi_dataset\\Beethoven - Symphony no. 9 - 2nd movement.mid] [F:\\GitHub\\dataset\\midi_dataset\\Beethoven - Symphony no. 9 - 4th movement.mid] [F:\\GitHub\\dataset\\midi_dataset\\Dukas - Sorcerer's Apprentice.mid] [F:\\GitHub\\dataset\\midi_dataset\\Hans_Zimmer_-_Pirates_Of_The_Caribbean_-_He's_A_Pirate.mid]"
     ]
    },
    {
     "name": "stderr",
     "output_type": "stream",
     "text": [
      "C:\\Users\\Draco\\AppData\\Local\\Packages\\PythonSoftwareFoundation.Python.3.11_qbz5n2kfra8p0\\LocalCache\\local-packages\\Python311\\site-packages\\pretty_midi\\pretty_midi.py:100: RuntimeWarning: Tempo, Key or Time signature change events found on non-zero tracks.  This is not a valid type 0 or type 1 MIDI file.  Tempo, Key or Time Signature may be wrong.\n",
      "  warnings.warn(\n"
     ]
    },
    {
     "name": "stdout",
     "output_type": "stream",
     "text": [
      " [F:\\GitHub\\dataset\\midi_dataset\\Mozart - Eine Kleine Nachtmusik.mid] [F:\\GitHub\\dataset\\midi_dataset\\Mozart - Lacrimoza.mid] [F:\\GitHub\\dataset\\midi_dataset\\Mozart - Marige of Figaro.mid] [F:\\GitHub\\dataset\\midi_dataset\\Mozart - Queen of the Night.mid] [F:\\GitHub\\dataset\\midi_dataset\\Mozart - Symphony no. 40.mid] [F:\\GitHub\\dataset\\midi_dataset\\Mozart - Symphony no. 41 - 3rd movement.mid] [F:\\GitHub\\dataset\\midi_dataset\\Paul Dukas - Sorcerer's Apprentice.mid]"
     ]
    }
   ],
   "source": [
    "preprocess_midi_files_under('F:\\\\GitHub\\\\dataset\\\\midi_dataset', 'F:\\\\GitHub\\\\dataset\\\\np_dataset')"
   ]
  },
  {
   "cell_type": "code",
   "execution_count": 247,
   "metadata": {},
   "outputs": [],
   "source": [
    "midi_notes = extract_midi(\"F:\\\\GitHub\\\\dataset\\\\midi_dataset\\\\Hans_Zimmer_-_Pirates_Of_The_Caribbean_-_He's_A_Pirate.mid\")\n",
    "token_seq = encode(midi_notes)\n",
    "decoded_seq = decode(token_seq)"
   ]
  },
  {
   "cell_type": "code",
   "execution_count": 252,
   "metadata": {},
   "outputs": [
    {
     "name": "stdout",
     "output_type": "stream",
     "text": [
      "torch.Size([8, 100])\n",
      "torch.Size([5, 100])\n"
     ]
    }
   ],
   "source": [
    "dataloader = get_dataloader(\"F:\\\\GitHub\\\\dataset\\\\np_dataset\", batch_size=8, sequence_length=100, shuffle=True)\n",
    "for batch in dataloader:\n",
    "    print(batch.size())"
   ]
  }
 ],
 "metadata": {
  "kernelspec": {
   "display_name": "Python 3",
   "language": "python",
   "name": "python3"
  },
  "language_info": {
   "codemirror_mode": {
    "name": "ipython",
    "version": 3
   },
   "file_extension": ".py",
   "mimetype": "text/x-python",
   "name": "python",
   "nbconvert_exporter": "python",
   "pygments_lexer": "ipython3",
   "version": "3.11.9"
  }
 },
 "nbformat": 4,
 "nbformat_minor": 2
}
