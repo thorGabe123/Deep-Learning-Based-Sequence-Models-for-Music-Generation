{
 "cells": [
  {
   "cell_type": "code",
   "execution_count": 1,
   "metadata": {},
   "outputs": [],
   "source": [
    "from config import *\n",
    "import processing\n",
    "import models\n",
    "import torch.optim as optim\n",
    "import torch.nn as nn\n",
    "import numpy as np\n",
    "import math\n",
    "import torch\n",
    "import json\n",
    "\n"
   ]
  },
  {
   "cell_type": "code",
   "execution_count": null,
   "metadata": {},
   "outputs": [
    {
     "name": "stdout",
     "output_type": "stream",
     "text": [
      " [F:\\GitHub\\dataset\\midi_dataset\\2_Unlimited\\Get_Ready_for_This.mid] [F:\\GitHub\\dataset\\midi_dataset\\2_Unlimited\\Here_I_Go.mid] [F:\\GitHub\\dataset\\midi_dataset\\2_Unlimited\\Let_the_Beat_Control_Your_Body.1.mid] [F:\\GitHub\\dataset\\midi_dataset\\2_Unlimited\\Let_the_Beat_Control_Your_Body.2.mid] [F:\\GitHub\\dataset\\midi_dataset\\2_Unlimited\\Let_the_Beat_Control_Your_Body.3.mid] [F:\\GitHub\\dataset\\midi_dataset\\2_Unlimited\\Let_the_Beat_Control_Your_Body.mid] [F:\\GitHub\\dataset\\midi_dataset\\2_Unlimited\\Maximum_Overdrive.1.mid] [F:\\GitHub\\dataset\\midi_dataset\\2_Unlimited\\Maximum_Overdrive.mid] [F:\\GitHub\\dataset\\midi_dataset\\2_Unlimited\\No_Limit.1.mid] [F:\\GitHub\\dataset\\midi_dataset\\2_Unlimited\\No_Limit.2.mid] [F:\\GitHub\\dataset\\midi_dataset\\2_Unlimited\\No_Limit.mid] [F:\\GitHub\\dataset\\midi_dataset\\2_Unlimited\\No_Limits.mid] [F:\\GitHub\\dataset\\midi_dataset\\2_Unlimited\\No_Limit_extended_.mid] [F:\\GitHub\\dataset\\midi_dataset\\2_Unlimited\\No_One.1.mid] [F:\\GitHub\\dataset\\midi_dataset\\2_Unlimited\\No_One.mid] [F:\\GitHub\\dataset\\midi_dataset\\2_Unlimited\\The_Real_Thing.1.mid] [F:\\GitHub\\dataset\\midi_dataset\\2_Unlimited\\The_Real_Thing.2.mid] [F:\\GitHub\\dataset\\midi_dataset\\2_Unlimited\\The_Real_Thing.mid] [F:\\GitHub\\dataset\\midi_dataset\\2_Unlimited\\Tribal_Dance_edit_.1.mid] [F:\\GitHub\\dataset\\midi_dataset\\2_Unlimited\\Tribal_Dance_edit_.2.mid] [F:\\GitHub\\dataset\\midi_dataset\\2_Unlimited\\Tribal_Dance_edit_.mid] [F:\\GitHub\\dataset\\midi_dataset\\2_Unlimited\\Twilight_Zone.1.mid] [F:\\GitHub\\dataset\\midi_dataset\\2_Unlimited\\Twilight_Zone.2.mid] [F:\\GitHub\\dataset\\midi_dataset\\2_Unlimited\\Twilight_Zone.3.mid] [F:\\GitHub\\dataset\\midi_dataset\\2_Unlimited\\Twilight_Zone.mid] [F:\\GitHub\\dataset\\midi_dataset\\2_Unlimited\\Workaholic.1.mid] [F:\\GitHub\\dataset\\midi_dataset\\2_Unlimited\\Workaholic.mid] [F:\\GitHub\\dataset\\midi_dataset\\883\\Andra_tutto_bene_58_.1.mid] [F:\\GitHub\\dataset\\midi_dataset\\883\\Andra_tutto_bene_58_.mid] [F:\\GitHub\\dataset\\midi_dataset\\883\\Chiuditi_nel_cesso.1.mid] [F:\\GitHub\\dataset\\midi_dataset\\883\\Chiuditi_nel_cesso.mid]"
     ]
    },
    {
     "name": "stderr",
     "output_type": "stream",
     "text": [
      "C:\\Users\\Draco\\AppData\\Local\\Packages\\PythonSoftwareFoundation.Python.3.11_qbz5n2kfra8p0\\LocalCache\\local-packages\\Python311\\site-packages\\pretty_midi\\pretty_midi.py:100: RuntimeWarning: Tempo, Key or Time signature change events found on non-zero tracks.  This is not a valid type 0 or type 1 MIDI file.  Tempo, Key or Time Signature may be wrong.\n",
      "  warnings.warn(\n"
     ]
    },
    {
     "name": "stdout",
     "output_type": "stream",
     "text": [
      " [F:\\GitHub\\dataset\\midi_dataset\\883\\Come_mai_feat._Fiorello_.1.mid] [F:\\GitHub\\dataset\\midi_dataset\\883\\Come_mai_feat._Fiorello_.2.mid] [F:\\GitHub\\dataset\\midi_dataset\\883\\Come_mai_feat._Fiorello_.mid] [F:\\GitHub\\dataset\\midi_dataset\\883\\Con_un_deca.1.mid] [F:\\GitHub\\dataset\\midi_dataset\\883\\Con_un_deca.mid] [F:\\GitHub\\dataset\\midi_dataset\\883\\Cumuni.mid] [F:\\GitHub\\dataset\\midi_dataset\\883\\Dimmi_perche_remix_.mid] [F:\\GitHub\\dataset\\midi_dataset\\883\\Gli_anni_96_.1.mid] [F:\\GitHub\\dataset\\midi_dataset\\883\\Gli_anni_96_.mid] [F:\\GitHub\\dataset\\midi_dataset\\883\\Grazie_mille.1.mid] [F:\\GitHub\\dataset\\midi_dataset\\883\\Grazie_mille.mid] [F:\\GitHub\\dataset\\midi_dataset\\883\\Hanno_ucciso_luomo_ragno.1.mid] [F:\\GitHub\\dataset\\midi_dataset\\883\\Hanno_ucciso_luomo_ragno.2.mid] [F:\\GitHub\\dataset\\midi_dataset\\883\\Hanno_ucciso_luomo_ragno.mid] [F:\\GitHub\\dataset\\midi_dataset\\883\\Innamorare_tanto.mid] [F:\\GitHub\\dataset\\midi_dataset\\883\\Io_ci_saro.1.mid] [F:\\GitHub\\dataset\\midi_dataset\\883\\Io_ci_saro.mid] [F:\\GitHub\\dataset\\midi_dataset\\883\\La_dura_legge_del_gol.mid] [F:\\GitHub\\dataset\\midi_dataset\\883\\La_regola_dellamico.mid] [F:\\GitHub\\dataset\\midi_dataset\\883\\Le_luci_di_Natale.mid] [F:\\GitHub\\dataset\\midi_dataset\\883\\Nella_notte.1.mid] [F:\\GitHub\\dataset\\midi_dataset\\883\\Nella_notte.2.mid] [F:\\GitHub\\dataset\\midi_dataset\\883\\Nella_notte.mid] [F:\\GitHub\\dataset\\midi_dataset\\883\\Nella_notte_Molella_remix_.mid] [F:\\GitHub\\dataset\\midi_dataset\\883\\Nessun_rimpianto.1.mid] [F:\\GitHub\\dataset\\midi_dataset\\883\\Nessun_rimpianto.mid] [F:\\GitHub\\dataset\\midi_dataset\\883\\Non_mi_arrendo.1.mid] [F:\\GitHub\\dataset\\midi_dataset\\883\\Non_mi_arrendo.mid] [F:\\GitHub\\dataset\\midi_dataset\\883\\Non_ti_passa_piu.mid] [F:\\GitHub\\dataset\\midi_dataset\\883\\Nord_Sud_Ovest_Est.1.mid] [F:\\GitHub\\dataset\\midi_dataset\\883\\Nord_Sud_Ovest_Est.2.mid] [F:\\GitHub\\dataset\\midi_dataset\\883\\Nord_Sud_Ovest_Est.3.mid] [F:\\GitHub\\dataset\\midi_dataset\\883\\Nord_Sud_Ovest_Est.4.mid] [F:\\GitHub\\dataset\\midi_dataset\\883\\Nord_Sud_Ovest_Est.mid] [F:\\GitHub\\dataset\\midi_dataset\\883\\Rotta_x_casa_di_Dio.mid] [F:\\GitHub\\dataset\\midi_dataset\\883\\Sei_un_mito.1.mid] [F:\\GitHub\\dataset\\midi_dataset\\883\\Sei_un_mito.2.mid] [F:\\GitHub\\dataset\\midi_dataset\\883\\Sei_un_mito.3.mid] [F:\\GitHub\\dataset\\midi_dataset\\883\\Sei_un_mito.mid] [F:\\GitHub\\dataset\\midi_dataset\\883\\Senza_averti_qui.1.mid] [F:\\GitHub\\dataset\\midi_dataset\\883\\Senza_averti_qui.2.mid] [F:\\GitHub\\dataset\\midi_dataset\\883\\Senza_averti_qui.mid] [F:\\GitHub\\dataset\\midi_dataset\\883\\Se_tornerai.1.mid] [F:\\GitHub\\dataset\\midi_dataset\\883\\Se_tornerai.2.mid] [F:\\GitHub\\dataset\\midi_dataset\\883\\Se_tornerai.mid] [F:\\GitHub\\dataset\\midi_dataset\\883\\Tieni_il_tempo.1.mid] [F:\\GitHub\\dataset\\midi_dataset\\883\\Tieni_il_tempo.2.mid] [F:\\GitHub\\dataset\\midi_dataset\\883\\Tieni_il_tempo.mid] [F:\\GitHub\\dataset\\midi_dataset\\883\\Ti_sento_vivere.mid] [F:\\GitHub\\dataset\\midi_dataset\\883\\Tutto_cio_che_ho.mid] [F:\\GitHub\\dataset\\midi_dataset\\883\\Una_canzone_damore.1.mid] [F:\\GitHub\\dataset\\midi_dataset\\883\\Una_canzone_damore.2.mid] [F:\\GitHub\\dataset\\midi_dataset\\883\\Una_canzone_damore.mid] [F:\\GitHub\\dataset\\midi_dataset\\883\\Un_giorno_cosi.1.mid] [F:\\GitHub\\dataset\\midi_dataset\\883\\Un_giorno_cosi.mid] [F:\\GitHub\\dataset\\midi_dataset\\883\\Viaggio_al_centro_del_mondo.mid] [F:\\GitHub\\dataset\\midi_dataset\\ABBA\\Andante,_Andante.mid] [F:\\GitHub\\dataset\\midi_dataset\\ABBA\\Angeleyes.mid] [F:\\GitHub\\dataset\\midi_dataset\\ABBA\\Another_Town,_Another_Train.mid] [F:\\GitHub\\dataset\\midi_dataset\\ABBA\\Chiquitita.1.mid] [F:\\GitHub\\dataset\\midi_dataset\\ABBA\\Chiquitita.2.mid] [F:\\GitHub\\dataset\\midi_dataset\\ABBA\\Chiquitita.3.mid] [F:\\GitHub\\dataset\\midi_dataset\\ABBA\\Chiquitita.4.mid] [F:\\GitHub\\dataset\\midi_dataset\\ABBA\\Chiquitita.mid] [F:\\GitHub\\dataset\\midi_dataset\\ABBA\\Dance_While_the_Music_Still_Goes_on_.1.mid] [F:\\GitHub\\dataset\\midi_dataset\\ABBA\\Dance_While_the_Music_Still_Goes_on_.2.mid] [F:\\GitHub\\dataset\\midi_dataset\\ABBA\\Dance_While_the_Music_Still_Goes_on_.3.mid] [F:\\GitHub\\dataset\\midi_dataset\\ABBA\\Dance_While_the_Music_Still_Goes_on_.mid] [F:\\GitHub\\dataset\\midi_dataset\\ABBA\\Dancing_Queen.1.mid] [F:\\GitHub\\dataset\\midi_dataset\\ABBA\\Dancing_Queen.10.mid] [F:\\GitHub\\dataset\\midi_dataset\\ABBA\\Dancing_Queen.11.mid] [F:\\GitHub\\dataset\\midi_dataset\\ABBA\\Dancing_Queen.12.mid] [F:\\GitHub\\dataset\\midi_dataset\\ABBA\\Dancing_Queen.2.mid] [F:\\GitHub\\dataset\\midi_dataset\\ABBA\\Dancing_Queen.3.mid] [F:\\GitHub\\dataset\\midi_dataset\\ABBA\\Dancing_Queen.4.mid] [F:\\GitHub\\dataset\\midi_dataset\\ABBA\\Dancing_Queen.5.mid] [F:\\GitHub\\dataset\\midi_dataset\\ABBA\\Dancing_Queen.6.mid] [F:\\GitHub\\dataset\\midi_dataset\\ABBA\\Dancing_Queen.7.mid] [F:\\GitHub\\dataset\\midi_dataset\\ABBA\\Dancing_Queen.8.mid] [F:\\GitHub\\dataset\\midi_dataset\\ABBA\\Dancing_Queen.9.mid] [F:\\GitHub\\dataset\\midi_dataset\\ABBA\\Dancing_Queen.mid] [F:\\GitHub\\dataset\\midi_dataset\\ABBA\\Does_Your_Mother_Know.1.mid] [F:\\GitHub\\dataset\\midi_dataset\\ABBA\\Does_Your_Mother_Know.2.mid] [F:\\GitHub\\dataset\\midi_dataset\\ABBA\\Does_Your_Mother_Know.3.mid] [F:\\GitHub\\dataset\\midi_dataset\\ABBA\\Does_Your_Mother_Know.4.mid] [F:\\GitHub\\dataset\\midi_dataset\\ABBA\\Does_Your_Mother_Know.mid] [F:\\GitHub\\dataset\\midi_dataset\\ABBA\\Eagle.mid] [F:\\GitHub\\dataset\\midi_dataset\\ABBA\\Fernando.1.mid] [F:\\GitHub\\dataset\\midi_dataset\\ABBA\\Fernando.10.mid] [F:\\GitHub\\dataset\\midi_dataset\\ABBA\\Fernando.11.mid] [F:\\GitHub\\dataset\\midi_dataset\\ABBA\\Fernando.2.mid] [F:\\GitHub\\dataset\\midi_dataset\\ABBA\\Fernando.3.mid] [F:\\GitHub\\dataset\\midi_dataset\\ABBA\\Fernando.4.mid] [F:\\GitHub\\dataset\\midi_dataset\\ABBA\\Fernando.5.mid] [F:\\GitHub\\dataset\\midi_dataset\\ABBA\\Fernando.6.mid] [F:\\GitHub\\dataset\\midi_dataset\\ABBA\\Fernando.7.mid] [F:\\GitHub\\dataset\\midi_dataset\\ABBA\\Fernando.8.mid] [F:\\GitHub\\dataset\\midi_dataset\\ABBA\\Fernando.9.mid] [F:\\GitHub\\dataset\\midi_dataset\\ABBA\\Fernando.mid] [F:\\GitHub\\dataset\\midi_dataset\\ABBA\\Gimme_Gimme_Gimme.1.mid] [F:\\GitHub\\dataset\\midi_dataset\\ABBA\\Gimme_Gimme_Gimme.mid] [F:\\GitHub\\dataset\\midi_dataset\\ABBA\\Hamlet_III,_Part_2.mid] [F:\\GitHub\\dataset\\midi_dataset\\ABBA\\Hasta_Manana.mid] [F:\\GitHub\\dataset\\midi_dataset\\ABBA\\Hey,_Hey_Helen.1.mid] [F:\\GitHub\\dataset\\midi_dataset\\ABBA\\Hey,_Hey_Helen.mid] [F:\\GitHub\\dataset\\midi_dataset\\ABBA\\Hole_In_Your_Soul.mid] [F:\\GitHub\\dataset\\midi_dataset\\ABBA\\Honey_Honey.1.mid] [F:\\GitHub\\dataset\\midi_dataset\\ABBA\\Honey_Honey.mid]"
     ]
    }
   ],
   "source": [
    "processing.preprocess_midi_files('F:\\\\GitHub\\\\dataset\\\\midi_dataset', 'F:\\\\GitHub\\\\dataset\\\\np_dataset')"
   ]
  },
  {
   "cell_type": "code",
   "execution_count": 2,
   "metadata": {},
   "outputs": [],
   "source": [
    "train_dataloader, test_dataloader = processing.get_train_test_dataloaders('F:\\\\GitHub\\\\dataset\\\\np_dataset')\n"
   ]
  },
  {
   "cell_type": "code",
   "execution_count": 3,
   "metadata": {},
   "outputs": [
    {
     "ename": "TypeError",
     "evalue": "SequenceDataset.data_augementation() takes 1 positional argument but 2 were given",
     "output_type": "error",
     "traceback": [
      "\u001b[1;31m---------------------------------------------------------------------------\u001b[0m",
      "\u001b[1;31mTypeError\u001b[0m                                 Traceback (most recent call last)",
      "Cell \u001b[1;32mIn[3], line 15\u001b[0m\n\u001b[0;32m     12\u001b[0m model\u001b[38;5;241m.\u001b[39mtrain()  \u001b[38;5;66;03m# Set the model to training mode\u001b[39;00m\n\u001b[0;32m     13\u001b[0m total_loss \u001b[38;5;241m=\u001b[39m \u001b[38;5;241m0\u001b[39m\n\u001b[1;32m---> 15\u001b[0m \u001b[43m\u001b[49m\u001b[38;5;28;43;01mfor\u001b[39;49;00m\u001b[43m \u001b[49m\u001b[43mbatch_idx\u001b[49m\u001b[43m,\u001b[49m\u001b[43m \u001b[49m\u001b[43m(\u001b[49m\u001b[43msrc\u001b[49m\u001b[43m,\u001b[49m\u001b[43m \u001b[49m\u001b[43mtrg\u001b[49m\u001b[43m,\u001b[49m\u001b[43m \u001b[49m\u001b[43mmetadata\u001b[49m\u001b[43m)\u001b[49m\u001b[43m \u001b[49m\u001b[38;5;129;43;01min\u001b[39;49;00m\u001b[43m \u001b[49m\u001b[38;5;28;43menumerate\u001b[39;49m\u001b[43m(\u001b[49m\u001b[43mtrain_dataloader\u001b[49m\u001b[43m)\u001b[49m\u001b[43m:\u001b[49m\n\u001b[0;32m     16\u001b[0m \u001b[43m    \u001b[49m\u001b[38;5;66;43;03m# Forward pass\u001b[39;49;00m\n\u001b[0;32m     17\u001b[0m \u001b[43m    \u001b[49m\u001b[43moutput\u001b[49m\u001b[43m \u001b[49m\u001b[38;5;241;43m=\u001b[39;49m\u001b[43m \u001b[49m\u001b[43mmodel\u001b[49m\u001b[43m(\u001b[49m\u001b[43msrc\u001b[49m\u001b[43m,\u001b[49m\u001b[43m \u001b[49m\u001b[43mmetadata\u001b[49m\u001b[43m)\u001b[49m\n\u001b[0;32m     18\u001b[0m \u001b[43m    \u001b[49m\u001b[38;5;66;43;03m# print(output.shape)\u001b[39;49;00m\n\u001b[0;32m     19\u001b[0m \u001b[43m    \u001b[49m\u001b[38;5;66;43;03m# Reshape output and target for loss calculation\u001b[39;49;00m\n",
      "File \u001b[1;32m~\\AppData\\Local\\Packages\\PythonSoftwareFoundation.Python.3.11_qbz5n2kfra8p0\\LocalCache\\local-packages\\Python311\\site-packages\\torch\\utils\\data\\dataloader.py:701\u001b[0m, in \u001b[0;36m_BaseDataLoaderIter.__next__\u001b[1;34m(self)\u001b[0m\n\u001b[0;32m    698\u001b[0m \u001b[38;5;28;01mif\u001b[39;00m \u001b[38;5;28mself\u001b[39m\u001b[38;5;241m.\u001b[39m_sampler_iter \u001b[38;5;129;01mis\u001b[39;00m \u001b[38;5;28;01mNone\u001b[39;00m:\n\u001b[0;32m    699\u001b[0m     \u001b[38;5;66;03m# TODO(https://github.com/pytorch/pytorch/issues/76750)\u001b[39;00m\n\u001b[0;32m    700\u001b[0m     \u001b[38;5;28mself\u001b[39m\u001b[38;5;241m.\u001b[39m_reset()  \u001b[38;5;66;03m# type: ignore[call-arg]\u001b[39;00m\n\u001b[1;32m--> 701\u001b[0m data \u001b[38;5;241m=\u001b[39m \u001b[38;5;28;43mself\u001b[39;49m\u001b[38;5;241;43m.\u001b[39;49m\u001b[43m_next_data\u001b[49m\u001b[43m(\u001b[49m\u001b[43m)\u001b[49m\n\u001b[0;32m    702\u001b[0m \u001b[38;5;28mself\u001b[39m\u001b[38;5;241m.\u001b[39m_num_yielded \u001b[38;5;241m+\u001b[39m\u001b[38;5;241m=\u001b[39m \u001b[38;5;241m1\u001b[39m\n\u001b[0;32m    703\u001b[0m \u001b[38;5;28;01mif\u001b[39;00m (\n\u001b[0;32m    704\u001b[0m     \u001b[38;5;28mself\u001b[39m\u001b[38;5;241m.\u001b[39m_dataset_kind \u001b[38;5;241m==\u001b[39m _DatasetKind\u001b[38;5;241m.\u001b[39mIterable\n\u001b[0;32m    705\u001b[0m     \u001b[38;5;129;01mand\u001b[39;00m \u001b[38;5;28mself\u001b[39m\u001b[38;5;241m.\u001b[39m_IterableDataset_len_called \u001b[38;5;129;01mis\u001b[39;00m \u001b[38;5;129;01mnot\u001b[39;00m \u001b[38;5;28;01mNone\u001b[39;00m\n\u001b[0;32m    706\u001b[0m     \u001b[38;5;129;01mand\u001b[39;00m \u001b[38;5;28mself\u001b[39m\u001b[38;5;241m.\u001b[39m_num_yielded \u001b[38;5;241m>\u001b[39m \u001b[38;5;28mself\u001b[39m\u001b[38;5;241m.\u001b[39m_IterableDataset_len_called\n\u001b[0;32m    707\u001b[0m ):\n",
      "File \u001b[1;32m~\\AppData\\Local\\Packages\\PythonSoftwareFoundation.Python.3.11_qbz5n2kfra8p0\\LocalCache\\local-packages\\Python311\\site-packages\\torch\\utils\\data\\dataloader.py:757\u001b[0m, in \u001b[0;36m_SingleProcessDataLoaderIter._next_data\u001b[1;34m(self)\u001b[0m\n\u001b[0;32m    755\u001b[0m \u001b[38;5;28;01mdef\u001b[39;00m \u001b[38;5;21m_next_data\u001b[39m(\u001b[38;5;28mself\u001b[39m):\n\u001b[0;32m    756\u001b[0m     index \u001b[38;5;241m=\u001b[39m \u001b[38;5;28mself\u001b[39m\u001b[38;5;241m.\u001b[39m_next_index()  \u001b[38;5;66;03m# may raise StopIteration\u001b[39;00m\n\u001b[1;32m--> 757\u001b[0m     data \u001b[38;5;241m=\u001b[39m \u001b[38;5;28;43mself\u001b[39;49m\u001b[38;5;241;43m.\u001b[39;49m\u001b[43m_dataset_fetcher\u001b[49m\u001b[38;5;241;43m.\u001b[39;49m\u001b[43mfetch\u001b[49m\u001b[43m(\u001b[49m\u001b[43mindex\u001b[49m\u001b[43m)\u001b[49m  \u001b[38;5;66;03m# may raise StopIteration\u001b[39;00m\n\u001b[0;32m    758\u001b[0m     \u001b[38;5;28;01mif\u001b[39;00m \u001b[38;5;28mself\u001b[39m\u001b[38;5;241m.\u001b[39m_pin_memory:\n\u001b[0;32m    759\u001b[0m         data \u001b[38;5;241m=\u001b[39m _utils\u001b[38;5;241m.\u001b[39mpin_memory\u001b[38;5;241m.\u001b[39mpin_memory(data, \u001b[38;5;28mself\u001b[39m\u001b[38;5;241m.\u001b[39m_pin_memory_device)\n",
      "File \u001b[1;32m~\\AppData\\Local\\Packages\\PythonSoftwareFoundation.Python.3.11_qbz5n2kfra8p0\\LocalCache\\local-packages\\Python311\\site-packages\\torch\\utils\\data\\_utils\\fetch.py:50\u001b[0m, in \u001b[0;36m_MapDatasetFetcher.fetch\u001b[1;34m(self, possibly_batched_index)\u001b[0m\n\u001b[0;32m     48\u001b[0m \u001b[38;5;28;01mif\u001b[39;00m \u001b[38;5;28mself\u001b[39m\u001b[38;5;241m.\u001b[39mauto_collation:\n\u001b[0;32m     49\u001b[0m     \u001b[38;5;28;01mif\u001b[39;00m \u001b[38;5;28mhasattr\u001b[39m(\u001b[38;5;28mself\u001b[39m\u001b[38;5;241m.\u001b[39mdataset, \u001b[38;5;124m\"\u001b[39m\u001b[38;5;124m__getitems__\u001b[39m\u001b[38;5;124m\"\u001b[39m) \u001b[38;5;129;01mand\u001b[39;00m \u001b[38;5;28mself\u001b[39m\u001b[38;5;241m.\u001b[39mdataset\u001b[38;5;241m.\u001b[39m__getitems__:\n\u001b[1;32m---> 50\u001b[0m         data \u001b[38;5;241m=\u001b[39m \u001b[38;5;28;43mself\u001b[39;49m\u001b[38;5;241;43m.\u001b[39;49m\u001b[43mdataset\u001b[49m\u001b[38;5;241;43m.\u001b[39;49m\u001b[43m__getitems__\u001b[49m\u001b[43m(\u001b[49m\u001b[43mpossibly_batched_index\u001b[49m\u001b[43m)\u001b[49m\n\u001b[0;32m     51\u001b[0m     \u001b[38;5;28;01melse\u001b[39;00m:\n\u001b[0;32m     52\u001b[0m         data \u001b[38;5;241m=\u001b[39m [\u001b[38;5;28mself\u001b[39m\u001b[38;5;241m.\u001b[39mdataset[idx] \u001b[38;5;28;01mfor\u001b[39;00m idx \u001b[38;5;129;01min\u001b[39;00m possibly_batched_index]\n",
      "File \u001b[1;32m~\\AppData\\Local\\Packages\\PythonSoftwareFoundation.Python.3.11_qbz5n2kfra8p0\\LocalCache\\local-packages\\Python311\\site-packages\\torch\\utils\\data\\dataset.py:420\u001b[0m, in \u001b[0;36mSubset.__getitems__\u001b[1;34m(self, indices)\u001b[0m\n\u001b[0;32m    418\u001b[0m     \u001b[38;5;28;01mreturn\u001b[39;00m \u001b[38;5;28mself\u001b[39m\u001b[38;5;241m.\u001b[39mdataset\u001b[38;5;241m.\u001b[39m__getitems__([\u001b[38;5;28mself\u001b[39m\u001b[38;5;241m.\u001b[39mindices[idx] \u001b[38;5;28;01mfor\u001b[39;00m idx \u001b[38;5;129;01min\u001b[39;00m indices])  \u001b[38;5;66;03m# type: ignore[attr-defined]\u001b[39;00m\n\u001b[0;32m    419\u001b[0m \u001b[38;5;28;01melse\u001b[39;00m:\n\u001b[1;32m--> 420\u001b[0m     \u001b[38;5;28;01mreturn\u001b[39;00m \u001b[43m[\u001b[49m\u001b[38;5;28;43mself\u001b[39;49m\u001b[38;5;241;43m.\u001b[39;49m\u001b[43mdataset\u001b[49m\u001b[43m[\u001b[49m\u001b[38;5;28;43mself\u001b[39;49m\u001b[38;5;241;43m.\u001b[39;49m\u001b[43mindices\u001b[49m\u001b[43m[\u001b[49m\u001b[43midx\u001b[49m\u001b[43m]\u001b[49m\u001b[43m]\u001b[49m\u001b[43m \u001b[49m\u001b[38;5;28;43;01mfor\u001b[39;49;00m\u001b[43m \u001b[49m\u001b[43midx\u001b[49m\u001b[43m \u001b[49m\u001b[38;5;129;43;01min\u001b[39;49;00m\u001b[43m \u001b[49m\u001b[43mindices\u001b[49m\u001b[43m]\u001b[49m\n",
      "File \u001b[1;32m~\\AppData\\Local\\Packages\\PythonSoftwareFoundation.Python.3.11_qbz5n2kfra8p0\\LocalCache\\local-packages\\Python311\\site-packages\\torch\\utils\\data\\dataset.py:420\u001b[0m, in \u001b[0;36m<listcomp>\u001b[1;34m(.0)\u001b[0m\n\u001b[0;32m    418\u001b[0m     \u001b[38;5;28;01mreturn\u001b[39;00m \u001b[38;5;28mself\u001b[39m\u001b[38;5;241m.\u001b[39mdataset\u001b[38;5;241m.\u001b[39m__getitems__([\u001b[38;5;28mself\u001b[39m\u001b[38;5;241m.\u001b[39mindices[idx] \u001b[38;5;28;01mfor\u001b[39;00m idx \u001b[38;5;129;01min\u001b[39;00m indices])  \u001b[38;5;66;03m# type: ignore[attr-defined]\u001b[39;00m\n\u001b[0;32m    419\u001b[0m \u001b[38;5;28;01melse\u001b[39;00m:\n\u001b[1;32m--> 420\u001b[0m     \u001b[38;5;28;01mreturn\u001b[39;00m [\u001b[38;5;28;43mself\u001b[39;49m\u001b[38;5;241;43m.\u001b[39;49m\u001b[43mdataset\u001b[49m\u001b[43m[\u001b[49m\u001b[38;5;28;43mself\u001b[39;49m\u001b[38;5;241;43m.\u001b[39;49m\u001b[43mindices\u001b[49m\u001b[43m[\u001b[49m\u001b[43midx\u001b[49m\u001b[43m]\u001b[49m\u001b[43m]\u001b[49m \u001b[38;5;28;01mfor\u001b[39;00m idx \u001b[38;5;129;01min\u001b[39;00m indices]\n",
      "File \u001b[1;32mf:\\GitHub\\Deep-Learning-Based-Sequence-Models-for-Music-Generation\\processing\\dataset.py:165\u001b[0m, in \u001b[0;36mSequenceDataset.__getitem__\u001b[1;34m(self, idx)\u001b[0m\n\u001b[0;32m    162\u001b[0m         sequence \u001b[38;5;241m=\u001b[39m sequence[ix: ix \u001b[38;5;241m+\u001b[39m seq_len_extra]\n\u001b[0;32m    164\u001b[0m \u001b[38;5;66;03m# sequence = torch.tensor(sequence, device=DEVICE)\u001b[39;00m\n\u001b[1;32m--> 165\u001b[0m sequence \u001b[38;5;241m=\u001b[39m \u001b[38;5;28;43mself\u001b[39;49m\u001b[38;5;241;43m.\u001b[39;49m\u001b[43mdata_augementation\u001b[49m\u001b[43m(\u001b[49m\u001b[43msequence\u001b[49m\u001b[43m)\u001b[49m\n\u001b[0;32m    167\u001b[0m \u001b[38;5;66;03m# Fetch metadata for the band\u001b[39;00m\n\u001b[0;32m    168\u001b[0m path_parts \u001b[38;5;241m=\u001b[39m Path(file_path)\u001b[38;5;241m.\u001b[39mparts\n",
      "\u001b[1;31mTypeError\u001b[0m: SequenceDataset.data_augementation() takes 1 positional argument but 2 were given"
     ]
    }
   ],
   "source": [
    "with open('F:\\\\GitHub\\\\dataset\\\\midi_dataset\\\\tokenizations.json', 'r') as f:\n",
    "    tokenizations = json.load(f)\n",
    "METADATA_VOCAB_SIZE = tokenizations['VOCAB_SIZE']\n",
    "model = models.SimpleTransformer(VOCAB_SIZE, METADATA_VOCAB_SIZE, N_EMBD, N_HEAD, N_LAYER, FEEDFORWARD_DIM, BLOCK_SIZE, DROPOUT, DEVICE)\n",
    "\n",
    "criterion = nn.CrossEntropyLoss()\n",
    "optimizer = optim.Adam(model.parameters(), lr=LEARNING_RATE)\n",
    "\n",
    "# Training loop\n",
    "num_epochs = EPOCHS\n",
    "for epoch in range(num_epochs):\n",
    "    model.train()  # Set the model to training mode\n",
    "    total_loss = 0\n",
    "\n",
    "    for batch_idx, (src, trg, metadata) in enumerate(train_dataloader):\n",
    "        # Forward pass\n",
    "        output = model(src, metadata)\n",
    "        # print(output.shape)\n",
    "        # Reshape output and target for loss calculation\n",
    "        output = output.reshape(-1, VOCAB_SIZE)  # Flatten the output to [batch_size * seq_len, vocab_size]\n",
    "        trg = trg.view(-1)  # Flatten the target to [batch_size * seq_len]\n",
    "\n",
    "        # Compute loss\n",
    "        loss = criterion(output, trg)\n",
    "        \n",
    "        # Backward pass and optimization\n",
    "        optimizer.zero_grad()\n",
    "        loss.backward()\n",
    "        optimizer.step()\n",
    "        \n",
    "        total_loss += loss.item()\n",
    "\n",
    "        if (batch_idx + 1) % 10 == 0:\n",
    "            print(f'Epoch [{epoch+1}/{num_epochs}], Step [{batch_idx+1}/{len(train_dataloader)}], Loss: {loss.item():.4f}')\n",
    "\n",
    "    avg_loss = total_loss / len(train_dataloader)\n",
    "    print(f'Epoch [{epoch+1}/{num_epochs}], Average Loss: {avg_loss:.4f}')\n",
    "\n",
    "    # Validation loop (optional)\n",
    "    model.eval()  # Set the model to evaluation mode\n",
    "    val_loss = 0\n",
    "    with torch.no_grad():\n",
    "        for src, trg, metadata in test_dataloader:\n",
    "            src, trg = src.to(DEVICE), trg.to(DEVICE)\n",
    "            output = model(src, metadata)\n",
    "            output = output.reshape(-1, VOCAB_SIZE)\n",
    "            trg = trg.view(-1)\n",
    "            val_loss += criterion(output, trg).item()\n",
    "    \n",
    "    avg_val_loss = val_loss / len(test_dataloader)\n",
    "    print(f'Epoch [{epoch+1}/{num_epochs}], Validation Loss: {avg_val_loss:.4f}')\n",
    "\n",
    "print(\"Training complete!\")"
   ]
  },
  {
   "cell_type": "code",
   "execution_count": 4,
   "metadata": {},
   "outputs": [
    {
     "name": "stdout",
     "output_type": "stream",
     "text": [
      "tensor([[258, 258, 258,  ..., 258, 258, 258],\n",
      "        [258, 258, 258,  ..., 258, 258, 258],\n",
      "        [258, 258, 258,  ..., 258, 258, 258],\n",
      "        ...,\n",
      "        [258, 258, 258,  ..., 258, 258, 258],\n",
      "        [258, 258, 258,  ..., 258, 258, 258],\n",
      "        [258, 258, 258,  ..., 258, 258, 258]], device='cuda:0')\n",
      "tensor([[258, 258, 258,  ..., 258, 258, 258],\n",
      "        [258, 258, 258,  ..., 258, 258, 258],\n",
      "        [258, 258, 258,  ..., 258, 258, 258],\n",
      "        ...,\n",
      "        [258, 258, 258,  ..., 258, 258, 258],\n",
      "        [258, 258, 258,  ..., 258, 258, 258],\n",
      "        [258, 258, 258,  ..., 258, 258, 258]], device='cuda:0')\n",
      "tensor([[258, 258, 258,  ..., 258, 258, 258],\n",
      "        [258, 258, 258,  ..., 258, 258, 258],\n",
      "        [258, 258, 258,  ..., 258, 258, 258],\n",
      "        ...,\n",
      "        [258, 258, 258,  ..., 258, 258, 258],\n",
      "        [258, 258, 258,  ..., 258, 258, 258],\n",
      "        [258, 258, 258,  ..., 258, 258, 258]], device='cuda:0')\n",
      "tensor([[258, 258, 258,  ..., 258, 258, 258],\n",
      "        [258, 258, 258,  ..., 258, 258, 258],\n",
      "        [258, 258, 258,  ..., 258, 258, 258],\n",
      "        ...,\n",
      "        [258, 258, 258,  ..., 258, 258, 258],\n",
      "        [258, 258, 258,  ..., 258, 258, 258],\n",
      "        [258, 258, 258,  ..., 258, 258, 258]], device='cuda:0')\n",
      "tensor([[258, 258, 258,  ..., 258, 258, 258],\n",
      "        [258, 258, 258,  ..., 258, 258, 258],\n",
      "        [258, 258, 258,  ..., 258, 258, 258],\n",
      "        ...,\n",
      "        [258, 258, 258,  ..., 258, 258, 258],\n",
      "        [258, 258, 258,  ..., 258, 258, 258],\n",
      "        [258, 258, 258,  ..., 258, 258, 258]], device='cuda:0')\n",
      "tensor([[258, 258, 258,  ..., 258, 258, 258],\n",
      "        [258, 258, 258,  ..., 258, 258, 258],\n",
      "        [258, 258, 258,  ..., 258, 258, 258],\n",
      "        [258, 258, 258,  ..., 258, 258, 258]], device='cuda:0')\n"
     ]
    }
   ],
   "source": [
    "for batch_idx, (src, trg, metadata) in enumerate(train_dataloader):\n",
    "        # Forward pass\n",
    "        output = model(src, metadata)\n",
    "        print(output.argmax(dim=2))"
   ]
  },
  {
   "cell_type": "code",
   "execution_count": 5,
   "metadata": {},
   "outputs": [
    {
     "data": {
      "text/plain": [
       "<BarContainer object of 985 artists>"
      ]
     },
     "execution_count": 5,
     "metadata": {},
     "output_type": "execute_result"
    },
    {
     "data": {
      "image/png": "[encoded data removed]",
      "text/plain": [
       "<Figure size 800x600 with 1 Axes>"
      ]
     },
     "metadata": {},
     "output_type": "display_data"
    }
   ],
   "source": [
    "flattened_tensor = src.flatten()\n",
    "bins = VOCAB_SIZE\n",
    "hist = torch.histc(flattened_tensor.int(), bins=bins, min=0, max=VOCAB_SIZE)\n",
    "import matplotlib.pyplot as plt\n",
    "plt.figure(figsize=(8, 6))\n",
    "plt.bar(range(bins), hist.cpu().int().numpy(), width=1, align='center', color='blue', edgecolor='black')\n"
   ]
  },
  {
   "cell_type": "code",
   "execution_count": 6,
   "metadata": {},
   "outputs": [
    {
     "name": "stdout",
     "output_type": "stream",
     "text": [
      "torch.Size([8, 256])\n",
      "torch.Size([8, 256])\n",
      "torch.Size([8, 256])\n",
      "torch.Size([8, 256])\n",
      "torch.Size([8, 256])\n",
      "torch.Size([4, 256])\n"
     ]
    }
   ],
   "source": [
    "for batch_idx, (src, trg, metadata) in enumerate(train_dataloader):\n",
    "    print(src.shape)"
   ]
  },
  {
   "cell_type": "code",
   "execution_count": 12,
   "metadata": {},
   "outputs": [
    {
     "name": "stdout",
     "output_type": "stream",
     "text": [
      "{'PITCH_RES': 1, 'DYN_RES': 129, 'LENGTH_RES': 257, 'TIME_RES': 457, 'CHANNEL_RES': 557, 'TEMPO_RES': 685}\n"
     ]
    }
   ],
   "source": [
    "print(START_IDX)"
   ]
  },
  {
   "cell_type": "code",
   "execution_count": 7,
   "metadata": {},
   "outputs": [],
   "source": [
    "src_vocab_size, metadata_vocab_size, d_model, num_heads, num_layers, d_ff, max_len, dropout, device = VOCAB_SIZE, METADATA_VOCAB_SIZE, N_EMBD, N_HEAD, N_LAYER, FEEDFORWARD_DIM, BLOCK_SIZE, DROPOUT, DEVICE\n",
    "embedding = nn.Embedding(src_vocab_size, d_model).to(device)\n",
    "metadata_embedding = nn.Embedding(metadata_vocab_size, d_model).to(device)  # Metadata embedding layer\n",
    "positional_encoding = models.PositionalEncoding(d_model, max_len, device)\n",
    "layers = nn.ModuleList([models.TransformerBlock(d_model, num_heads, d_ff, dropout).to(device) for _ in range(num_layers)])  # Adjust for concatenated embeddings\n",
    "fc_out = nn.Linear(d_model, src_vocab_size).to(device)  # Adjust for concatenated embeddings\n",
    "dropout = nn.Dropout(dropout).to(device)\n",
    "max_len = max_len"
   ]
  },
  {
   "cell_type": "code",
   "execution_count": 22,
   "metadata": {},
   "outputs": [],
   "source": [
    "src = src.to(device)\n",
    "# start_idx = [self.get_idx(x) for x in src[:, 0]]\n",
    "metadata = metadata.to(device)\n",
    "# Embed the input sequence\n",
    "src_emb = embedding(src)  # Shape: [batch_size, seq_len, d_model]\n",
    "src_emb = positional_encoding(src_emb)  # Shape: [batch_size, seq_len, d_model]\n",
    "metadata_emb = metadata_embedding(metadata)  # Shape: [batch_size, 6, d_model]\n",
    "\n",
    "# x = torch.cat([metadata_emb, src_emb], dim=-2)  # Shape: [batch_size, seq_len + 6, d_model]\n",
    "# x = self.dropout(src_emb)\n",
    "x = src_emb\n",
    "\n",
    "# Pass through transformer layers\n",
    "for layer in layers:\n",
    "    x = layer(x, None)\n",
    "\n",
    "# Final output layer\n",
    "out = fc_out(x)  # Shape: [batch_size, seq_len, src_vocab_size]"
   ]
  },
  {
   "cell_type": "code",
   "execution_count": 30,
   "metadata": {},
   "outputs": [
    {
     "data": {
      "text/plain": [
       "tensor([[[545, 471, 702,  ..., 892, 485,  89]],\n",
       "\n",
       "        [[636, 330, 718,  ..., 545,  19, 419]],\n",
       "\n",
       "        [[139, 539, 666,  ..., 300, 942, 700]],\n",
       "\n",
       "        [[297,  48, 601,  ..., 636,  23, 277]]], device='cuda:0')"
      ]
     },
     "execution_count": 30,
     "metadata": {},
     "output_type": "execute_result"
    }
   ],
   "source": [
    "out.argmax(2).unsqueeze(1) "
   ]
  },
  {
   "cell_type": "code",
   "execution_count": 49,
   "metadata": {},
   "outputs": [
    {
     "name": "stdout",
     "output_type": "stream",
     "text": [
      "torch.Size([4, 256])\n",
      "torch.Size([4, 256])\n",
      "tensor([[258, 258, 258,  ..., 259, 258, 258],\n",
      "        [258, 258, 258,  ..., 258, 258, 258],\n",
      "        [258, 258, 258,  ..., 258, 258, 258],\n",
      "        [258, 258, 258,  ..., 258, 258, 258]], device='cuda:0')\n"
     ]
    },
    {
     "data": {
      "text/plain": [
       "tensor([8, 8, 9])"
      ]
     },
     "execution_count": 49,
     "metadata": {},
     "output_type": "execute_result"
    }
   ],
   "source": [
    "output = model(src, metadata)\n",
    "print(trg.shape)\n",
    "print(src.shape)\n",
    "print(output.argmax(dim=2))\n",
    "idx = torch.tensor([[0, 1, 2, 3, 4, 5, 6, 7, 9, 8], [0, 1, 2, 3, 4, 5, 6, 7, 9, 8], [0, 1, 2, 3, 4, 5, 6, 7, 9, 11]])\n",
    "idx.argmax(dim=1)"
   ]
  }
 ],
 "metadata": {
  "kernelspec": {
   "display_name": "Python 3",
   "language": "python",
   "name": "python3"
  },
  "language_info": {
   "codemirror_mode": {
    "name": "ipython",
    "version": 3
   },
   "file_extension": ".py",
   "mimetype": "text/x-python",
   "name": "python",
   "nbconvert_exporter": "python",
   "pygments_lexer": "ipython3",
   "version": "3.11.9"
  }
 },
 "nbformat": 4,
 "nbformat_minor": 2
}
