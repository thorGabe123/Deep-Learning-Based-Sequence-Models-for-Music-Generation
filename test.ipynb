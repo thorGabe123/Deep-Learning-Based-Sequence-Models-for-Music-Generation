{
 "cells": [
  {
   "cell_type": "code",
   "execution_count": 1,
   "metadata": {},
   "outputs": [],
   "source": [
    "import processing\n",
    "train_dataloader, test_dataloader = processing.get_train_test_dataloaders('..\\\\dataset\\\\np_dataset')"
   ]
  },
  {
   "cell_type": "code",
   "execution_count": 2,
   "metadata": {},
   "outputs": [],
   "source": [
    "import models.xlstm\n",
    "import train \n",
    "xlstm_dict = train.get_xlstm_dict()\n",
    "model = models.xlstm.xLSTM(xlstm_dict)\n",
    "for batch_idx, (src, trg, metadata) in enumerate(train_dataloader):\n",
    "    output = model(src.float())"
   ]
  },
  {
   "cell_type": "code",
   "execution_count": 7,
   "metadata": {},
   "outputs": [
    {
     "data": {
      "text/plain": [
       "'2025-03-06-12-52-32'"
      ]
     },
     "execution_count": 7,
     "metadata": {},
     "output_type": "execute_result"
    }
   ],
   "source": [
    "import os\n",
    "os.makedirs('pretrained/mamba/thinginin.pth')"
   ]
  },
  {
   "cell_type": "code",
   "execution_count": 15,
   "metadata": {},
   "outputs": [],
   "source": [
    "import torch\n",
    "import os\n",
    "import train\n",
    "import models\n",
    "xlstm_dict = train.get_xlstm_dict()\n",
    "\n",
    "model = models.xlstm.xLSTM(xlstm_dict)\n",
    "\n",
    "def save_model(model, path):\n",
    "    if not os.path.exists(path):\n",
    "        os.makedirs(os.path.dirname(path))\n",
    "    torch.save(model.state_dict(), path)\n",
    "save_model(model, 'pretrained/mamba/thinginin.pth')"
   ]
  }
 ],
 "metadata": {
  "kernelspec": {
   "display_name": "base",
   "language": "python",
   "name": "python3"
  },
  "language_info": {
   "codemirror_mode": {
    "name": "ipython",
    "version": 3
   },
   "file_extension": ".py",
   "mimetype": "text/x-python",
   "name": "python",
   "nbconvert_exporter": "python",
   "pygments_lexer": "ipython3",
   "version": "3.11.4"
  }
 },
 "nbformat": 4,
 "nbformat_minor": 2
}
