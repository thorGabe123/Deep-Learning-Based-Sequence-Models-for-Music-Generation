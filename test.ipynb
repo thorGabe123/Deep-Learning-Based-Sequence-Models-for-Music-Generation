{
 "cells": [
  {
   "cell_type": "code",
   "execution_count": null,
   "metadata": {},
   "outputs": [],
   "source": [
    "import train\n",
    "import torch\n",
    "model_type = 'mamba'\n",
    "model = train.new_model(model_type)\n",
    "# train.train(model, model_type)"
   ]
  },
  {
   "cell_type": "code",
   "execution_count": null,
   "metadata": {},
   "outputs": [
    {
     "ename": "AttributeError",
     "evalue": "'Mamba' object has no attribute 'vocab_size'",
     "output_type": "error",
     "traceback": [
      "\u001b[1;31m---------------------------------------------------------------------------\u001b[0m",
      "\u001b[1;31mAttributeError\u001b[0m                            Traceback (most recent call last)",
      "Cell \u001b[1;32mIn[5], line 1\u001b[0m\n\u001b[1;32m----> 1\u001b[0m model\u001b[38;5;241m.\u001b[39mvocab_size\n",
      "File \u001b[1;32mc:\\Users\\min\\anaconda3\\Lib\\site-packages\\torch\\nn\\modules\\module.py:1688\u001b[0m, in \u001b[0;36mModule.__getattr__\u001b[1;34m(self, name)\u001b[0m\n\u001b[0;32m   1686\u001b[0m     \u001b[38;5;28;01mif\u001b[39;00m name \u001b[38;5;129;01min\u001b[39;00m modules:\n\u001b[0;32m   1687\u001b[0m         \u001b[38;5;28;01mreturn\u001b[39;00m modules[name]\n\u001b[1;32m-> 1688\u001b[0m \u001b[38;5;28;01mraise\u001b[39;00m \u001b[38;5;167;01mAttributeError\u001b[39;00m(\u001b[38;5;124mf\u001b[39m\u001b[38;5;124m\"\u001b[39m\u001b[38;5;124m'\u001b[39m\u001b[38;5;132;01m{\u001b[39;00m\u001b[38;5;28mtype\u001b[39m(\u001b[38;5;28mself\u001b[39m)\u001b[38;5;241m.\u001b[39m\u001b[38;5;18m__name__\u001b[39m\u001b[38;5;132;01m}\u001b[39;00m\u001b[38;5;124m'\u001b[39m\u001b[38;5;124m object has no attribute \u001b[39m\u001b[38;5;124m'\u001b[39m\u001b[38;5;132;01m{\u001b[39;00mname\u001b[38;5;132;01m}\u001b[39;00m\u001b[38;5;124m'\u001b[39m\u001b[38;5;124m\"\u001b[39m)\n",
      "\u001b[1;31mAttributeError\u001b[0m: 'Mamba' object has no attribute 'vocab_size'"
     ]
    }
   ],
   "source": [
    "model.vocab_size"
   ]
  },
  {
   "cell_type": "code",
   "execution_count": 1,
   "metadata": {},
   "outputs": [
    {
     "data": {
      "text/plain": [
       "namespace(d_model=2,\n",
       "          n_layer=2,\n",
       "          vocab_size=840,\n",
       "          d_state=2,\n",
       "          expand=2,\n",
       "          d_conv=4,\n",
       "          pad_vocab_size_multiple=8,\n",
       "          conv_bias=True,\n",
       "          bias=False,\n",
       "          d_inner=4,\n",
       "          dt_rank=1,\n",
       "          block_len=128,\n",
       "          device='cpu',\n",
       "          metadata_dims=namespace(composer=8),\n",
       "          dropout=0.01,\n",
       "          epochs=200,\n",
       "          eval_interval=100,\n",
       "          save_interval=500,\n",
       "          learning_rate=0.1,\n",
       "          eval_iters=200,\n",
       "          test_ratio=0.2,\n",
       "          batch_size=8)"
      ]
     },
     "execution_count": 1,
     "metadata": {},
     "output_type": "execute_result"
    }
   ],
   "source": [
    "import train\n",
    "train.get_mamba_dict()"
   ]
  },
  {
   "cell_type": "code",
   "execution_count": 2,
   "metadata": {},
   "outputs": [
    {
     "data": {
      "text/plain": [
       "namespace(block_size=252,\n",
       "          n_embd=128,\n",
       "          n_head=8,\n",
       "          n_layer=8,\n",
       "          feedforward_dim=2048,\n",
       "          vocab_size=835,\n",
       "          block_len=128,\n",
       "          device='cpu',\n",
       "          metadata_dims=namespace(composer=8),\n",
       "          dropout=0.01,\n",
       "          epochs=200,\n",
       "          eval_interval=100,\n",
       "          save_interval=500,\n",
       "          learning_rate=0.1,\n",
       "          eval_iters=200,\n",
       "          test_ratio=0.2,\n",
       "          batch_size=8)"
      ]
     },
     "execution_count": 2,
     "metadata": {},
     "output_type": "execute_result"
    }
   ],
   "source": [
    "train.get_xlstm_dict()"
   ]
  }
 ],
 "metadata": {
  "kernelspec": {
   "display_name": "base",
   "language": "python",
   "name": "python3"
  },
  "language_info": {
   "codemirror_mode": {
    "name": "ipython",
    "version": 3
   },
   "file_extension": ".py",
   "mimetype": "text/x-python",
   "name": "python",
   "nbconvert_exporter": "python",
   "pygments_lexer": "ipython3",
   "version": "3.11.4"
  }
 },
 "nbformat": 4,
 "nbformat_minor": 2
}
