{
 "cells": [
  {
   "cell_type": "code",
   "execution_count": 2,
   "metadata": {},
   "outputs": [],
   "source": [
    "import processing\n",
    "\n",
    "loader = processing.DatasetLoader('..\\\\dataset\\\\np_dataset')\n",
    "train_dataloader, test_dataloader = loader.get_dataloaders()"
   ]
  },
  {
   "cell_type": "code",
   "execution_count": 3,
   "metadata": {},
   "outputs": [],
   "source": [
    "import models.xlstm\n",
    "import train \n",
    "import torch\n",
    "import configs.common as cc\n",
    "xlstm_dict = train.get_xlstm_dict()\n",
    "model = models.xlstm.xLSTM(xlstm_dict)\n",
    "model.to('cuda')\n",
    "model.train()\n",
    "criterion = torch.nn.CrossEntropyLoss()\n",
    "optimizer = torch.optim.Adam(model.parameters(), lr=cc.config.values.learning_rate)\n",
    "val_loss = 0\n",
    "for batch_idx, (src, trg, metadata) in enumerate(train_dataloader):\n",
    "    output = model(src.float())\n",
    "    output = output.reshape(-1, model.vocab_size)\n",
    "    trg = trg.view(-1)\n",
    "    val_loss += criterion(output, trg).item()\n",
    "    break"
   ]
  },
  {
   "cell_type": "code",
   "execution_count": 4,
   "metadata": {},
   "outputs": [
    {
     "data": {
      "text/plain": [
       "torch.Size([8, 128])"
      ]
     },
     "execution_count": 4,
     "metadata": {},
     "output_type": "execute_result"
    }
   ],
   "source": [
    "src.shape"
   ]
  }
 ],
 "metadata": {
  "kernelspec": {
   "display_name": "Python 3",
   "language": "python",
   "name": "python3"
  },
  "language_info": {
   "codemirror_mode": {
    "name": "ipython",
    "version": 3
   },
   "file_extension": ".py",
   "mimetype": "text/x-python",
   "name": "python",
   "nbconvert_exporter": "python",
   "pygments_lexer": "ipython3",
   "version": "3.11.9"
  }
 },
 "nbformat": 4,
 "nbformat_minor": 2
}
