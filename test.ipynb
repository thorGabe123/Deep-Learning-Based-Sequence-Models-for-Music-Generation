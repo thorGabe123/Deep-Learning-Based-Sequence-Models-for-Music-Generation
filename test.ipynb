{
 "cells": [
  {
   "cell_type": "code",
   "execution_count": null,
   "metadata": {},
   "outputs": [],
   "source": [
    "import train\n",
    "\n",
    "train.train('mamba', )"
   ]
  },
  {
   "cell_type": "code",
   "execution_count": 6,
   "metadata": {},
   "outputs": [],
   "source": [
    "import configs.common as cc\n",
    "import configs.mamba as cm\n",
    "import models\n",
    "import math\n",
    "config_values = cm.config.model_values\n",
    "config_values.vocab_size = cc.vocab_size\n",
    "config_values.d_inner = int(config_values.expand * config_values.d_model)\n",
    "config_values.dt_rank = math.ceil(config_values.d_model / 16)\n",
    "    \n",
    "if config_values.vocab_size % config_values.pad_vocab_size_multiple != 0:\n",
    "    config_values.vocab_size += (config_values.pad_vocab_size_multiple - config_values.vocab_size % config_values.pad_vocab_size_multiple)\n",
    "\n",
    "model = models.mamba.Mamba(config_values)\n"
   ]
  },
  {
   "cell_type": "code",
   "execution_count": null,
   "metadata": {},
   "outputs": [
    {
     "ename": "FileNotFoundError",
     "evalue": "[Errno 2] No such file or directory: 'F:\\\\GitHub\\\\dataset\\\\midi_dataset\\\\metadata.json'",
     "output_type": "error",
     "traceback": [
      "\u001b[1;31m---------------------------------------------------------------------------\u001b[0m",
      "\u001b[1;31mFileNotFoundError\u001b[0m                         Traceback (most recent call last)",
      "Cell \u001b[1;32mIn[9], line 6\u001b[0m\n\u001b[0;32m      3\u001b[0m model_type \u001b[38;5;241m=\u001b[39m \u001b[38;5;124m'\u001b[39m\u001b[38;5;124mmamba\u001b[39m\u001b[38;5;124m'\u001b[39m\n\u001b[0;32m      4\u001b[0m model \u001b[38;5;241m=\u001b[39m train\u001b[38;5;241m.\u001b[39mnew_model(model_type)\n\u001b[1;32m----> 6\u001b[0m train\u001b[38;5;241m.\u001b[39mtrain(model)\n",
      "File \u001b[1;32mc:\\Users\\min\\Documents\\GitHub\\Deep-Learning-Based-Sequence-Models-for-Music-Generation\\train.py:48\u001b[0m, in \u001b[0;36mtrain\u001b[1;34m(model)\u001b[0m\n\u001b[0;32m     47\u001b[0m \u001b[38;5;28;01mdef\u001b[39;00m \u001b[38;5;21mtrain\u001b[39m(model):\n\u001b[1;32m---> 48\u001b[0m     train_dataloader, test_dataloader \u001b[38;5;241m=\u001b[39m processing\u001b[38;5;241m.\u001b[39mget_train_test_dataloaders(\u001b[38;5;124m'\u001b[39m\u001b[38;5;124mF:\u001b[39m\u001b[38;5;130;01m\\\\\u001b[39;00m\u001b[38;5;124mGitHub\u001b[39m\u001b[38;5;130;01m\\\\\u001b[39;00m\u001b[38;5;124mdataset\u001b[39m\u001b[38;5;130;01m\\\\\u001b[39;00m\u001b[38;5;124mnp_dataset\u001b[39m\u001b[38;5;124m'\u001b[39m)\n\u001b[0;32m     49\u001b[0m     METADATA_VOCAB_SIZE \u001b[38;5;241m=\u001b[39m processing\u001b[38;5;241m.\u001b[39mget_metadata_vocab_size()\n\u001b[0;32m     50\u001b[0m     criterion \u001b[38;5;241m=\u001b[39m torch\u001b[38;5;241m.\u001b[39mnn\u001b[38;5;241m.\u001b[39mCrossEntropyLoss()\n",
      "File \u001b[1;32mc:\\Users\\min\\Documents\\GitHub\\Deep-Learning-Based-Sequence-Models-for-Music-Generation\\processing\\dataset.py:195\u001b[0m, in \u001b[0;36mget_train_test_dataloaders\u001b[1;34m(directory, batch_size, test_ratio)\u001b[0m\n\u001b[0;32m    181\u001b[0m \u001b[38;5;250m\u001b[39m\u001b[38;5;124;03m\"\"\"\u001b[39;00m\n\u001b[0;32m    182\u001b[0m \u001b[38;5;124;03mCreate training and testing DataLoaders with WeightedRandomSampler.\u001b[39;00m\n\u001b[0;32m    183\u001b[0m \n\u001b[1;32m   (...)\u001b[0m\n\u001b[0;32m    191\u001b[0m \u001b[38;5;124;03m    tuple: (train_dataloader, test_dataloader)\u001b[39;00m\n\u001b[0;32m    192\u001b[0m \u001b[38;5;124;03m\"\"\"\u001b[39;00m\n\u001b[0;32m    194\u001b[0m \u001b[38;5;66;03m# Load the dataset\u001b[39;00m\n\u001b[1;32m--> 195\u001b[0m dataset \u001b[38;5;241m=\u001b[39m SequenceDataset(directory)\n\u001b[0;32m    197\u001b[0m file_prob \u001b[38;5;241m=\u001b[39m dataset\u001b[38;5;241m.\u001b[39mfile_prob()  \u001b[38;5;66;03m# Get file probabilities\u001b[39;00m\n\u001b[0;32m    199\u001b[0m \u001b[38;5;66;03m# Split the dataset into training and testing subsets\u001b[39;00m\n",
      "File \u001b[1;32mc:\\Users\\min\\Documents\\GitHub\\Deep-Learning-Based-Sequence-Models-for-Music-Generation\\processing\\dataset.py:53\u001b[0m, in \u001b[0;36mSequenceDataset.__init__\u001b[1;34m(self, directory)\u001b[0m\n\u001b[0;32m     51\u001b[0m         \u001b[38;5;28;01mif\u001b[39;00m file\u001b[38;5;241m.\u001b[39mendswith(\u001b[38;5;124m'\u001b[39m\u001b[38;5;124m.npy\u001b[39m\u001b[38;5;124m'\u001b[39m):\n\u001b[0;32m     52\u001b[0m             \u001b[38;5;28mself\u001b[39m\u001b[38;5;241m.\u001b[39mfile_paths\u001b[38;5;241m.\u001b[39mappend(os\u001b[38;5;241m.\u001b[39mpath\u001b[38;5;241m.\u001b[39mjoin(root, file))\n\u001b[1;32m---> 53\u001b[0m \u001b[38;5;28mself\u001b[39m\u001b[38;5;241m.\u001b[39mmetadata_dict \u001b[38;5;241m=\u001b[39m \u001b[38;5;28mself\u001b[39m\u001b[38;5;241m.\u001b[39mget_metadata_dict()\n",
      "File \u001b[1;32mc:\\Users\\min\\Documents\\GitHub\\Deep-Learning-Based-Sequence-Models-for-Music-Generation\\processing\\dataset.py:57\u001b[0m, in \u001b[0;36mSequenceDataset.get_metadata_dict\u001b[1;34m(self)\u001b[0m\n\u001b[0;32m     55\u001b[0m \u001b[38;5;28;01mdef\u001b[39;00m \u001b[38;5;21mget_metadata_dict\u001b[39m(\u001b[38;5;28mself\u001b[39m):\n\u001b[0;32m     56\u001b[0m     \u001b[38;5;66;03m# Load the metadata\u001b[39;00m\n\u001b[1;32m---> 57\u001b[0m     metadata \u001b[38;5;241m=\u001b[39m get_metadata_json()\n\u001b[0;32m     59\u001b[0m     \u001b[38;5;66;03m# Initialize genre list and time range\u001b[39;00m\n\u001b[0;32m     60\u001b[0m     genre_list \u001b[38;5;241m=\u001b[39m []\n",
      "File \u001b[1;32mc:\\Users\\min\\Documents\\GitHub\\Deep-Learning-Based-Sequence-Models-for-Music-Generation\\processing\\dataset.py:25\u001b[0m, in \u001b[0;36mget_metadata_json\u001b[1;34m()\u001b[0m\n\u001b[0;32m     24\u001b[0m \u001b[38;5;28;01mdef\u001b[39;00m \u001b[38;5;21mget_metadata_json\u001b[39m():\n\u001b[1;32m---> 25\u001b[0m     \u001b[38;5;28;01mwith\u001b[39;00m \u001b[38;5;28mopen\u001b[39m(\u001b[38;5;124m'\u001b[39m\u001b[38;5;124mF:\u001b[39m\u001b[38;5;130;01m\\\\\u001b[39;00m\u001b[38;5;124mGitHub\u001b[39m\u001b[38;5;130;01m\\\\\u001b[39;00m\u001b[38;5;124mdataset\u001b[39m\u001b[38;5;130;01m\\\\\u001b[39;00m\u001b[38;5;124mmidi_dataset\u001b[39m\u001b[38;5;130;01m\\\\\u001b[39;00m\u001b[38;5;124mmetadata.json\u001b[39m\u001b[38;5;124m'\u001b[39m, \u001b[38;5;124m'\u001b[39m\u001b[38;5;124mr\u001b[39m\u001b[38;5;124m'\u001b[39m) \u001b[38;5;28;01mas\u001b[39;00m f:\n\u001b[0;32m     26\u001b[0m         metadata \u001b[38;5;241m=\u001b[39m json\u001b[38;5;241m.\u001b[39mload(f)\n\u001b[0;32m     27\u001b[0m     \u001b[38;5;28;01mreturn\u001b[39;00m metadata\n",
      "\u001b[1;31mFileNotFoundError\u001b[0m: [Errno 2] No such file or directory: 'F:\\\\GitHub\\\\dataset\\\\midi_dataset\\\\metadata.json'"
     ]
    }
   ],
   "source": [
    "import train\n",
    "import torch\n",
    "model_type = 'mamba'\n",
    "model = train.new_model(model_type)\n",
    "\n",
    "train.train(model)\n",
    "\n",
    "# torch.save(model.state_dict(), f'models/{model_type}/{new_name}')"
   ]
  }
 ],
 "metadata": {
  "kernelspec": {
   "display_name": "base",
   "language": "python",
   "name": "python3"
  },
  "language_info": {
   "codemirror_mode": {
    "name": "ipython",
    "version": 3
   },
   "file_extension": ".py",
   "mimetype": "text/x-python",
   "name": "python",
   "nbconvert_exporter": "python",
   "pygments_lexer": "ipython3",
   "version": "3.11.4"
  }
 },
 "nbformat": 4,
 "nbformat_minor": 2
}
