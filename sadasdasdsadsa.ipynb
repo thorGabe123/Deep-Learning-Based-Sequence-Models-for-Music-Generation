{
 "cells": [
  {
   "cell_type": "code",
   "execution_count": null,
   "metadata": {},
   "outputs": [],
   "source": [
    "import temp.xLSTM as xLSTM\n",
    "import processing\n",
    "train_dataloader, test_dataloader = processing.get_train_test_dataloaders('..\\\\dataset\\\\np_dataset')\n",
    "\n",
    "for batch_idx, (src, trg, metadata) in enumerate(train_dataloader):\n",
    "    xLSTM.xLSTM(['s'], )"
   ]
  }
 ],
 "metadata": {
  "language_info": {
   "name": "python"
  }
 },
 "nbformat": 4,
 "nbformat_minor": 2
}
